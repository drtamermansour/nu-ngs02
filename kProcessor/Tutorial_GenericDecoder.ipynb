{
 "cells": [
  {
   "cell_type": "markdown",
   "metadata": {},
   "source": [
    "<h1 style=\"color:purple\"  align=\"center\"><b><u>kProcessor: GenericDecoder Tutorial</u></b></h1>"
   ]
  },
  {
   "cell_type": "markdown",
   "metadata": {},
   "source": [
    "### Data Download"
   ]
  },
  {
   "cell_type": "code",
   "execution_count": 1,
   "metadata": {},
   "outputs": [],
   "source": [
    "#!wget https://github.com/drtamermansour/nu-ngs02/raw/master/kProcessor/data/data.zip\n",
    "#!unzip data.zip\n",
    "#!ls data/"
   ]
  },
  {
   "cell_type": "markdown",
   "metadata": {},
   "source": [
    "### Import kprocessor python package"
   ]
  },
  {
   "cell_type": "code",
   "execution_count": 2,
   "metadata": {},
   "outputs": [],
   "source": [
    "import kProcessor as kp"
   ]
  },
  {
   "cell_type": "markdown",
   "metadata": {},
   "source": [
    "<hr style=\"height:2px;\">"
   ]
  },
  {
   "cell_type": "markdown",
   "metadata": {},
   "source": [
    "<h2 align=\"center\"> <u> Main Functions </u> </h2>\n",
    "<hr>\n",
    "\n",
    "\n",
    "<hr style=\"height:1px;\">\n",
    "\n",
    "<h3 style=\"color:green\">1- Parsing GenericDecoder object</h3>\n",
    "<ul>\n",
    "<li><b>kp.parseSequences(GenericDecoder, kDataFrame): </b>Parse the database and insert children in the kDataFrame with their count</li>\n",
    "</ul>\n",
    "\n",
    "<hr style=\"height:1px;\">\n",
    "\n",
    "<h3 style=\"color:green\">2- Loading and saving hashed values of children</h3>\n",
    "<ul>\n",
    "<li><b>kp.initialize_MAPhasher(ifilePath): </b>load saved files with ifilePath prefix</li>\n",
    "</ul>\n",
    "<ul>\n",
    "<li><b>kp.save_MAPhasher(hashMethod, ifilePath): </b>save hashed values in hashMethod with ifilePath prefix</li>\n",
    "</ul>\n",
    "\n",
    "<hr style=\"height:1px;\">\n",
    "\n",
    "<h3 style=\"color:green\"><b>3- Initialization </b></h3>\n",
    "<ul>\n",
    "<li><b>kp.initialize_genericDecoder(ofilePath, ifilePath, source): </b> prepare genericDecoder to parse ifilePath to extract asscotiation list according to the given source</li>\n",
    "</ul>\n",
    "<ul>\n",
    "<li><b>kp.initialize_genericDecoder(ofilePath, source): </b> prepare genericDecoder to check the last version of the give database (source) in order to be parsed</li>\n",
    "</ul>\n",
    "<ul>\n",
    "<li><b>kp.initialize_genericDecoder(aListFilePath): </b> prepare genericDecoder to parse a json file that contains a list of association lists</li>\n",
    "</ul>\n",
    "<ul>\n",
    "<li><b>kp.initialize_genericDecoder(ofilePath, ifilePath, source ,hashMethod): </b> initialize genericDecoder while using an old hashed values of childrens</li>\n",
    "</ul>\n",
    "    \n",
    "<hr style=\"height:1px;\">\n",
    "\n",
    "<h3 style=\"color:green\"><b>4- Adding options </b></h3>\n",
    "<ul>\n",
    "<li><b>kp.set_hashMethod(GD, hashMethod): </b> set GenericDecoder to use an old hashed values of childrens</li>\n",
    "</ul>\n",
    "<ul>\n",
    "<li><b>set_minList(GD, minList): </b> set a minimum length of asscotiation lists, so that it decodes parents with certain number of childrens</li>\n",
    "</ul>\n",
    "<ul>\n",
    "<li><b>set_filterPath(GD, filterPath): </b> add a filter that controls which parents would be added depending on the values provided by the database</li>\n",
    "</ul>\n",
    "<ul>\n",
    "<li><b>set_dictionaryPath(GD, dictionaryPath): </b> use dictionary to translate childrens using a tabular file with the word and its meaning in a tab seperated format</li>\n",
    "</ul>\n",
    "    \n",
    "<hr style=\"height:1px;\">\n",
    "\n",
    "<h3 style=\"color:green\"><b>5- Decoding </b></h3>\n",
    "<ul>\n",
    "<li><b>kp.decode(GD): </b> decode GenericDecoder object to create asscotiation list, so that GenericDecoder is ready to be indexed</li>\n",
    "</ul>\n",
    "    \n",
    "<hr style=\"height:1px;\">\n",
    "    \n",
    "<h3 style=\"color:green\"><b>6- Indexing </b></h3>\n",
    "<ul>\n",
    "<li><b>kp.index(GenericDecoder, namesFile , kDataFrame): </b>Perform children indexing of the given file with respect to the namesFile, filling the passed kDataFrame and returns a coloredKDataFrame</li>\n",
    "</ul>\n",
    "    \n",
    "<hr style=\"height:1px;\">"
   ]
  },
  {
   "cell_type": "markdown",
   "metadata": {},
   "source": [
    "<hr style=\"height:2px;\">"
   ]
  },
  {
   "cell_type": "markdown",
   "metadata": {},
   "source": [
    "<h2  align=\"center\"> Example 1 (Initialize GenericDecoder from an offline data) </h2>\n",
    "<hr>\n",
    "<h3><b>Description</b></h3>\n",
    "<ol>\n",
    "    <li> Initialize GenericDecoder </li> \n",
    "    <li> Decode input file</li>\n",
    "<ol>"
   ]
  },
  {
   "cell_type": "markdown",
   "metadata": {},
   "source": [
    "### Initialize GenericDecoder"
   ]
  },
  {
   "cell_type": "code",
   "execution_count": 2,
   "metadata": {},
   "outputs": [],
   "source": [
    "GD = kp.initialize_genericDecoder(\"data/\", \"data/all_gene_disease_associations\", \"DisGeNET\")"
   ]
  },
  {
   "cell_type": "markdown",
   "metadata": {},
   "source": [
    "### decode input file"
   ]
  },
  {
   "cell_type": "code",
   "execution_count": 3,
   "metadata": {},
   "outputs": [],
   "source": [
    "GD = kp.decode(GD)"
   ]
  },
  {
   "cell_type": "markdown",
   "metadata": {},
   "source": [
    "<hr style=\"height:5px\">\n",
    "\n",
    "<h2  align=\"center\"> Example 2 (Loading hashed values to be used in different GenericDecoder object) </h2>\n",
    "<hr>\n",
    "<h3><b>Description</b></h3>\n",
    "<ol>\n",
    "    <li> Save hashed values of a decoded GenericDecoder (saved by default after decoding with the same prefix as ifilePath) </li> \n",
    "    <li> Initialize MAPhasher from the saved file</li>\n",
    "    <li> Pass the  MAPhasher to a new GenericDecoder object</li>\n",
    "    <li> save the  MAPhasher on disk</li>\n",
    "<ol>"
   ]
  },
  {
   "cell_type": "markdown",
   "metadata": {},
   "source": [
    "### Save hashed values of a decoded GenericDecoder (saved by default after decoding with the same prefix as ifilePath)"
   ]
  },
  {
   "cell_type": "code",
   "execution_count": 4,
   "metadata": {},
   "outputs": [],
   "source": [
    "GD = kp.decode(GD)"
   ]
  },
  {
   "cell_type": "markdown",
   "metadata": {},
   "source": [
    "### Initialize MAPhasher from the saved file"
   ]
  },
  {
   "cell_type": "code",
   "execution_count": 5,
   "metadata": {},
   "outputs": [],
   "source": [
    "hashMethod = initialize_MAPhasher(\"data/all_gene_disease_associations\")"
   ]
  },
  {
   "cell_type": "markdown",
   "metadata": {},
   "source": [
    "### Pass the  MAPhasher to a new GenericDecoder object"
   ]
  },
  {
   "cell_type": "code",
   "execution_count": 6,
   "metadata": {},
   "outputs": [],
   "source": [
    "GD1 = kp.initialize_genericDecoder(\"data/\", \"data/CPDB_pathways_genes\", \"consensusPathDB\" ,hashMethod)\n",
    "GD1 = kp.decode(GD1)"
   ]
  },
  {
   "cell_type": "markdown",
   "metadata": {},
   "source": [
    "### save the  MAPhasher on disk"
   ]
  },
  {
   "cell_type": "code",
   "execution_count": 6,
   "metadata": {},
   "outputs": [],
   "source": [
    "kp.save_MAPhasher(hashMethod, \"data/all_gene_disease_associations\")"
   ]
  },
  {
   "cell_type": "markdown",
   "metadata": {},
   "source": [
    "<hr style=\"height:5px\">\n",
    "\n",
    "<h2  align=\"center\"> Example 3 (Initialize GenericDecoder to download the last updated version of database) </h2>\n",
    "<hr>\n",
    "<h3><b>Description</b></h3>\n",
    "<ol>\n",
    "    <li> Initialize GenericDecoder </li> \n",
    "    <li> Decode downloaded file</li>\n",
    "<ol>"
   ]
  },
  {
   "cell_type": "markdown",
   "metadata": {},
   "source": [
    "### Initialize GenericDecoder"
   ]
  },
  {
   "cell_type": "code",
   "execution_count": 7,
   "metadata": {},
   "outputs": [],
   "source": [
    "GD = kp.initialize_genericDecoder(\"data/\", \"DisGeNET\")"
   ]
  },
  {
   "cell_type": "markdown",
   "metadata": {},
   "source": [
    "### decode downloaded file"
   ]
  },
  {
   "cell_type": "code",
   "execution_count": 8,
   "metadata": {},
   "outputs": [],
   "source": [
    "GD = kp.decode(GD)"
   ]
  },
  {
   "cell_type": "markdown",
   "metadata": {},
   "source": [
    "<hr style=\"height:5px\">\n",
    "\n",
    "<h2  align=\"center\"> Example 4 (Adding features to GenericDecoder before decoding) </h2>\n",
    "<hr>\n",
    "<h3><b>Description</b></h3>\n",
    "<ol>\n",
    "    <li> Add filter </li> \n",
    "    <li> Set minimum number of childrens in asscotiation lists </li>\n",
    "    <li> Use an initialized MAPhasher </li>\n",
    "<ol>"
   ]
  },
  {
   "cell_type": "markdown",
   "metadata": {},
   "source": [
    "## Add filter"
   ]
  },
  {
   "cell_type": "code",
   "execution_count": 9,
   "metadata": {},
   "outputs": [],
   "source": [
    "GD = set_filterPath(GD, \"data/all_gene_disease_associations_filter\")"
   ]
  },
  {
   "cell_type": "markdown",
   "metadata": {},
   "source": [
    "## Set minimum number of childrens in asscotiation lists"
   ]
  },
  {
   "cell_type": "code",
   "execution_count": 10,
   "metadata": {},
   "outputs": [],
   "source": [
    "GD = set_minList(GD, 7)"
   ]
  },
  {
   "cell_type": "markdown",
   "metadata": {},
   "source": [
    "### Use an initialized MAPhasher"
   ]
  },
  {
   "cell_type": "code",
   "execution_count": 11,
   "metadata": {},
   "outputs": [],
   "source": [
    "GD = set_hashMethod(GD, hashMethod)"
   ]
  },
  {
   "cell_type": "markdown",
   "metadata": {},
   "source": [
    "<hr style=\"height:5px\">\n",
    "\n",
    "<h2  align=\"center\"> Example 5 (Concatenate two GenericDecoder objects) </h2>\n",
    "<hr>\n",
    "<h3><b>Description</b></h3>\n",
    "<ol>\n",
    "    <li>Initialize and decode a GenericDecoder object</li> \n",
    "    <li>Initialize and decode another GenericDecoder object</li>",
    "<ol>"
   ]
  },
  {
   "cell_type": "code",
   "execution_count": 12,
   "metadata": {},
   "outputs": [],
   "source": [
    "# Initialize and decode a GenericDecoder object\n",
    "GD = kp.initialize_genericDecoder(\"data/\", \"DisGeNET\")\n",
    "GD = kp.decode(GD)"
   ]
  },
  {
   "cell_type": "code",
   "execution_count": 13,
   "metadata": {},
   "outputs": [],
   "source": [
    "# Initialize another GenericDecoder object to be appended to GD\n",
    "GD1 = kp.initialize_genericDecoder(GD, \"data/\", \"consensusPathDB\")\n",
    "# Decode Concatenated GenericDecoder objects\n",
    "GD = kp.decode(GD)"
   ]
  },
  {
   "cell_type": "markdown",
   "metadata": {},
   "source": [
    "<h2  align=\"center\"> Example 6 (Indexing a GenericDecoder object) </h2>\n",
    "<hr>\n",
    "<h3><b>Description</b></h3>\n",
    "<ol>\n",
    "    <li>Initialize and decode a GenericDecoder object.</li> \n",
    "    <li>Initialize kDataFramePHMAP object.</li> \n",
    "    <li>Index GenericDecoder object into kDataFramePHMAP object.</li> \n",
    "<ol>"
   ]
  },
  {
   "cell_type": "code",
   "execution_count": 14,
   "metadata": {},
   "outputs": [],
   "source": [
     "# Initialize and decode a GenericDecoder object\n",
     "GD = kp.initialize_genericDecoder(\"data/\", \"DisGeNET\")\n",
     "GD = set_filterPath(GD, \"data/all_gene_disease_associations_filter\")\n",
     "GD = kp.decode(GD)"
   ]
  },
  {
   "cell_type": "code",
   "execution_count": 15,
   "metadata": {},
   "outputs": [],
   "source": [
    "# Initialize kDataFramePHMAP object\n",
    "kf = kp.kDataFramePHMAP(21)"
   ]
  },
  {
   "cell_type": "code",
   "execution_count": 16,
   "metadata": {},
   "outputs": [],
   "source": [
     "# Perform indexing\n",
     "cfk = kp.index(GD, \"data/all_gene_disease_associations.tsv.names\" ,KF)\n\n",
     "# save coloredKDataFrame to disk\n",
     "cfk.save(\"data/all_gene_disease_associations_indexed\")"
   ]
  }
 ],
 "metadata": {
  "kernelspec": {
   "display_name": "Python 3",
   "language": "python",
   "name": "python3"
  },
  "language_info": {
   "codemirror_mode": {
    "name": "ipython",
    "version": 3
   },
   "file_extension": ".py",
   "mimetype": "text/x-python",
   "name": "python",
   "nbconvert_exporter": "python",
   "pygments_lexer": "ipython3",
   "version": "3.7.4"
  }
 },
 "nbformat": 4,
 "nbformat_minor": 2
}
