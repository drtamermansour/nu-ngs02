{
 "cells": [
  {
   "cell_type": "markdown",
   "metadata": {},
   "source": [
    "<h1 style=\"color:purple\"  align=\"center\"><b><u>kProcessor Tutorial</u></b></h1>"
   ]
  },
  {
   "cell_type": "markdown",
   "metadata": {},
   "source": [
    "### Data Download"
   ]
  },
  {
   "cell_type": "code",
   "execution_count": 1,
   "metadata": {},
   "outputs": [],
   "source": [
    "#!wget https://github.com/drtamermansour/nu-ngs02/raw/master/Day5/kProcessor/data/data.zip\n",
    "#!unzip data.zip\n",
    "#!ls data/"
   ]
  },
  {
   "cell_type": "markdown",
   "metadata": {},
   "source": [
    "### Import kprocessor python package"
   ]
  },
  {
   "cell_type": "code",
   "execution_count": 2,
   "metadata": {},
   "outputs": [],
   "source": [
    "import kProcessor as kp"
   ]
  },
  {
   "cell_type": "markdown",
   "metadata": {},
   "source": [
    "### Import random library to generate random numbers"
   ]
  },
  {
   "cell_type": "code",
   "execution_count": 3,
   "metadata": {},
   "outputs": [],
   "source": [
    "import random"
   ]
  },
  {
   "cell_type": "markdown",
   "metadata": {},
   "source": [
    "<h2 align=\"center\"> <u> Main Classes and Functions </u> </h2>\n",
    "<hr>\n",
    "\n",
    "\n",
    "<h3 style=\"color:green\">1- kDataFrame Object Instantiation</h3>\n",
    "<ul>\n",
    "    <li><b>kp.kDataFrame(kSize): </b>Create an empty kDataFrame with predefined kmerSize</li>\n",
    "</ul>\n",
    "\n",
    "<hr style=\"height:1px;\">\n",
    "\n",
    "<h3 style=\"color:green\">2-kmer Counting</h3>\n",
    "<ul>\n",
    "    <li><b>kp.parseSequences(kmerDecoder, kDataFrame): </b>Parse the FASTA/Q and insert the kmers in the kDataFrame with their count</li>\n",
    "</ul>\n",
    "\n",
    "<hr style=\"height:1px;\">\n",
    "\n",
    "<h3 style=\"color:green\">3- kDataFrame basic functions</h3>\n",
    "<ul>\n",
    "<li><b>kDataFrame.size(): </b>returns the number of kmers in the kDataFrame</li>\n",
    "<li><b>kDataFrame.max_size(): </b>returns the maximum number of kmers that the kDataframe can hold.</li>\n",
    "<li><b>kDataFrame.save(fileName): </b>Save the kDataFrame on disk.</li>\n",
    "<li><b>kp.kDataFrame.load(): </b>Load the kDataFrame From disk and return kDataFrame object</li>\n",
    "</ul>\n",
    "\n",
    "<hr style=\"height:1px;\">\n",
    "\n",
    "<h3 style=\"color:green\">4- kDataFrame kmer-specific functions</h3>\n",
    "<ul>\n",
    "<li><b>kDataFrame.insert(kmer): </b>Insert a kmer</li>\n",
    "<li><b>kDataFrame.insert(kmer, count): </b>Insert a kmer with it's count</li>\n",
    "<li><b>kDataFrame.setCount(kmer, count): </b>set the kmer count</li>\n",
    "<li><b>kDataFrame.count(kmer): </b>returns the kmer count (number of times that kmer was inserted)</li>\n",
    "<li><b>kDataFrame.erase(kmer): </b>remove a kmer from the kDataFrame</li>\n",
    "</ul>\n",
    "\n",
    "\n",
    "<hr style=\"height:1px;\">\n",
    "\n",
    "<h3 style=\"color:green\"><b>5- kDataFrameIterator Functions</b></h3>\n",
    "<ul>\n",
    "<li><b>kDataFrameIterator.begin(): </b>Return the first position of a kDataFrame object</li>\n",
    "<li><b>kDataFrameIterator.end(): </b>Return the last position of a kDataFrame object</li>\n",
    "<li><b>kDataFrameIterator.next(): </b>Increment the iterator position by one</li>\n",
    "<li><b>kDataFrameIterator.getKmer(): </b>Return the kmer at the current iterator position</li>\n",
    "<li><b>kDataFrameIterator.getKmerCount(): </b>Return the kmer count at the current iterator position</li>\n",
    "<li><b>kDataFrameIterator.setKmerCount(): </b>Set the kmer count at the current iterator position</li>\n",
    "</ul>\n",
    "\n",
    "<hr style=\"height:1px;\">\n",
    "    \n",
    "<h3 style=\"color:green\"><b>6- Indexing </b></h3>\n",
    "<ul>\n",
    "<li><b>kp.index(kmerDecoder, namesFile , kDataFrame): </b>Perform the kmers indexing to the given FASTA/Q file with respect to the namesFile, filling the passed kDataFrame and returns a coloredKDataFrame</li>\n",
    "</ul>\n",
    "    \n",
    "<hr style=\"height:1px;\">\n",
    " \n",
    "<h3 style=\"color:green\">7- colored kDataFrame functions</h3>\n",
    "<ul>\n",
    "    <li><b>Inherits All functions in the kDataFrame</b></li>\n",
    "    <li><b>colored_kDataFrame.getKmerColor(kmer): </b>returns the color of the kmer</li>\n",
    "    <li><b>colored_kDataFrame.getSamplesIDForColor(color): </b>returns a list of all the transcript ids contains that color</li>\n",
    "    <li><b>colored_kDataFrame.getSamplesIDForKmer(kmer): </b>returns a list of all the transcript ids contains that kmer</li>\n",
    "    <li><b>colored_kDataFrame.names_map(): </b>returns a dictionary contains namesMap information {tr_id:tr_name}</li>\n",
    "    <li><b>colored_kDataFrame.inverse_names_map(): </b>returns a dictionary contains namesMap information {tr_name:tr_id}</li>\n",
    "    <li><b>colored_kDataFrame.load(fileNamePrefix): </b>load the coloredkDataFrame from disk and returns coloredkDataFrame object</li>\n",
    "    <li><b>colored_kDataFrame.save(fileNamePrefix): </b>save the coloredkDataFrame to disk</li>\n",
    "</ul>\n",
    "\n",
    "<h3 style=\"color:green\"><b>7- kDataFrames set functions (Works only with kDataFrameMQF)</b></h3>\n",
    "<ul>\n",
    "<li><b>kp.kFrameDiff([kDataFrames]): </b> retrieve list of kDataFrames and return a kDataFrame holds the difference between them</li>\n",
    "    <li><b>kp.kFrameIntersect([kDataFrames]): </b> retrieve list of kDataFrames and return a kDataFrame holds the Intersection between them</li>\n",
    "    <li><b>kp.kFrameUnion([kDataFrames]): </b> retrieve list of kDataFrames and return a kDataFrame holds the Union between them</li>\n",
    "</ul>"
   ]
  },
  {
   "cell_type": "markdown",
   "metadata": {},
   "source": [
    "<hr style=\"height:2px;\">"
   ]
  },
  {
   "cell_type": "markdown",
   "metadata": {},
   "source": [
    "<h2  align=\"center\"> Example 1 (Create a kDataFrame from a fastq file) </h2>\n",
    "<hr>\n",
    "<h3><b>Description</b></h3>\n",
    "<ol>\n",
    "    <li> Create an empty kDataFrame with kmerSize = 21 </li> \n",
    "    <li> Load a fasta file into a kDataFrame</li>\n",
    "    <li> Save the kDataFrame on disk </li>\n",
    "<ol>"
   ]
  },
  {
   "cell_type": "markdown",
   "metadata": {},
   "source": [
    "### Create an empty kDataFrame"
   ]
  },
  {
   "cell_type": "code",
   "execution_count": 4,
   "metadata": {},
   "outputs": [],
   "source": [
    "kf3 = kp.kDataFrameMQF(21)"
   ]
  },
  {
   "cell_type": "markdown",
   "metadata": {},
   "source": [
    "### Create KmerDecoder Object"
   ]
  },
  {
   "cell_type": "code",
   "execution_count": 5,
   "metadata": {},
   "outputs": [],
   "source": [
    "KD = kp.initialize_kmerDecoder(\"data/test.fastq\" , 1000,\"kmers\", {\"k_size\" : 21})"
   ]
  },
  {
   "cell_type": "markdown",
   "metadata": {},
   "source": [
    "### Parse the fastq file into the kf3 kDataFrame"
   ]
  },
  {
   "cell_type": "code",
   "execution_count": 6,
   "metadata": {},
   "outputs": [],
   "source": [
    "kp.parseSequences(KD, kf3)"
   ]
  },
  {
   "cell_type": "markdown",
   "metadata": {},
   "source": [
    "### Print the kDataFrame3 size and the kmer size used in it"
   ]
  },
  {
   "cell_type": "code",
   "execution_count": 7,
   "metadata": {},
   "outputs": [
    {
     "name": "stdout",
     "output_type": "stream",
     "text": [
      "26321\n",
      "21\n"
     ]
    }
   ],
   "source": [
    "# kDataFrame Size\n",
    "print(kf3.size())\n",
    "\n",
    "# kmer size\n",
    "print(kf3.ksize())"
   ]
  },
  {
   "cell_type": "markdown",
   "metadata": {},
   "source": [
    "### Save the kDataFrame on disk with a name \"kf3\""
   ]
  },
  {
   "cell_type": "code",
   "execution_count": 8,
   "metadata": {},
   "outputs": [],
   "source": [
    "kf3.save(\"kf3\")"
   ]
  },
  {
   "cell_type": "markdown",
   "metadata": {},
   "source": [
    "<hr style=\"height:5px\">\n",
    "\n",
    "<h2  align=\"center\"> Example 2 (Loading the kDataFrame from disk) </h2>\n",
    "<hr>\n",
    "<h3><b>Description</b></h3>\n",
    "<ol>\n",
    "    <li> Load the kf3 kDataFrame in an new kDataFrame with name kf4</li> \n",
    "    <li>Verify the loading by printing the kmerSize and total size</li>\n",
    "    <li> Save the kDataFrame on disk </li>\n",
    "<ol>"
   ]
  },
  {
   "cell_type": "code",
   "execution_count": 9,
   "metadata": {},
   "outputs": [],
   "source": [
    "kf4 = kp.kDataFrame.load(\"kf3\")"
   ]
  },
  {
   "cell_type": "code",
   "execution_count": 10,
   "metadata": {},
   "outputs": [
    {
     "name": "stdout",
     "output_type": "stream",
     "text": [
      "26321\n",
      "21\n"
     ]
    }
   ],
   "source": [
    "print(kf4.size())\n",
    "print(kf4.ksize())"
   ]
  },
  {
   "cell_type": "markdown",
   "metadata": {},
   "source": [
    "<h2  align=\"center\"> Example 3 (kDataFrame Manipulation) <h2>\n",
    "<hr>\n",
    "<h3><b>Description</b></h3>\n",
    "<ol>\n",
    "    <li> Create kDataFrame with kmerSize = 21 </li> \n",
    "    <li> Insert some random kmers with random counts </li>\n",
    "    <li> Query by each kmer and check the count </li>\n",
    "    <li> Insert a pre-exist kmer and check it's count </li>\n",
    "<ol>"
   ]
  },
  {
   "cell_type": "markdown",
   "metadata": {},
   "source": [
    "### Kmers List"
   ]
  },
  {
   "cell_type": "code",
   "execution_count": 11,
   "metadata": {},
   "outputs": [],
   "source": [
    "kmers = [\"CTGACTACTCAGAGCTAGCCT\", \"CGTAACCTATGCTAGCTAGAT\"]"
   ]
  },
  {
   "cell_type": "markdown",
   "metadata": {},
   "source": [
    "### Instantiate an object from the class kDataFrameMQF\n"
   ]
  },
  {
   "cell_type": "code",
   "execution_count": 12,
   "metadata": {},
   "outputs": [],
   "source": [
    "kf = kp.kDataFrameMQF(21) # Empty kDataFrame"
   ]
  },
  {
   "cell_type": "markdown",
   "metadata": {},
   "source": [
    "### Print the size of the kDataFrame"
   ]
  },
  {
   "cell_type": "code",
   "execution_count": 13,
   "metadata": {},
   "outputs": [
    {
     "name": "stdout",
     "output_type": "stream",
     "text": [
      "kf size: 0\n"
     ]
    }
   ],
   "source": [
    "print(\"kf size: %d\" % kf.size())"
   ]
  },
  {
   "cell_type": "markdown",
   "metadata": {},
   "source": [
    "### Insert the first kmer and set count to 1 & the second kmer with count 10 "
   ]
  },
  {
   "cell_type": "code",
   "execution_count": 14,
   "metadata": {},
   "outputs": [
    {
     "name": "stdout",
     "output_type": "stream",
     "text": [
      "Inserting 2 kmers\n"
     ]
    },
    {
     "data": {
      "text/plain": [
       "True"
      ]
     },
     "execution_count": 14,
     "metadata": {},
     "output_type": "execute_result"
    }
   ],
   "source": [
    "print(\"Inserting 2 kmers\")\n",
    "kf.insert(kmers[0], 1)\n",
    "kf.insert(kmers[1], 10)"
   ]
  },
  {
   "cell_type": "markdown",
   "metadata": {},
   "source": [
    "### Print the size of the kDataFrame & counts of kmer1 and kmer2"
   ]
  },
  {
   "cell_type": "code",
   "execution_count": 15,
   "metadata": {
    "scrolled": true
   },
   "outputs": [
    {
     "name": "stdout",
     "output_type": "stream",
     "text": [
      "kf size: 2\n",
      "Kmer1 Count: 1\n",
      "Kmer2 Count: 10\n"
     ]
    }
   ],
   "source": [
    "print(\"kf size: %d\" % kf.size())\n",
    "# Print the first kmer count \n",
    "print(\"Kmer1 Count: %d\" % kf.count(kmers[0]))\n",
    "print(\"Kmer2 Count: %d\" % kf.count(kmers[1]))"
   ]
  },
  {
   "cell_type": "markdown",
   "metadata": {},
   "source": [
    "### Insert a duplicate kmer without count"
   ]
  },
  {
   "cell_type": "code",
   "execution_count": 16,
   "metadata": {},
   "outputs": [
    {
     "name": "stdout",
     "output_type": "stream",
     "text": [
      "[*] Inserting kmer 1 again\n"
     ]
    },
    {
     "data": {
      "text/plain": [
       "True"
      ]
     },
     "execution_count": 16,
     "metadata": {},
     "output_type": "execute_result"
    }
   ],
   "source": [
    "print(\"[*] Inserting kmer 1 again\")\n",
    "kf.insert(kmers[0])"
   ]
  },
  {
   "cell_type": "markdown",
   "metadata": {},
   "source": [
    "### Print the first kmer count again"
   ]
  },
  {
   "cell_type": "code",
   "execution_count": 17,
   "metadata": {
    "scrolled": true
   },
   "outputs": [
    {
     "name": "stdout",
     "output_type": "stream",
     "text": [
      "Kmer1 Count: 2\n"
     ]
    }
   ],
   "source": [
    "print(\"Kmer1 Count: %d\" % kf.count(kmers[0]))"
   ]
  },
  {
   "cell_type": "markdown",
   "metadata": {},
   "source": [
    "### Erase kmer1 from the kDataFrame"
   ]
  },
  {
   "cell_type": "code",
   "execution_count": 18,
   "metadata": {},
   "outputs": [
    {
     "name": "stdout",
     "output_type": "stream",
     "text": [
      "[*] Erasing kmer1\n"
     ]
    },
    {
     "data": {
      "text/plain": [
       "True"
      ]
     },
     "execution_count": 18,
     "metadata": {},
     "output_type": "execute_result"
    }
   ],
   "source": [
    "print(\"[*] Erasing kmer1\")\n",
    "kf.erase(kmers[0])"
   ]
  },
  {
   "cell_type": "markdown",
   "metadata": {},
   "source": [
    "### Print the first kmer count again and the kDataframe Size"
   ]
  },
  {
   "cell_type": "code",
   "execution_count": 19,
   "metadata": {
    "scrolled": true
   },
   "outputs": [
    {
     "name": "stdout",
     "output_type": "stream",
     "text": [
      "Kmer1 Count: 0\n",
      "kf size: 1\n"
     ]
    }
   ],
   "source": [
    "print(\"Kmer1 Count: %d\" % kf.count(kmers[0]))\n",
    "print(\"kf size: %d\" % kf.size())"
   ]
  },
  {
   "cell_type": "markdown",
   "metadata": {},
   "source": [
    "<hr style=\"height:5px\">"
   ]
  },
  {
   "cell_type": "markdown",
   "metadata": {},
   "source": [
    "<h2  align=\"center\"> Example 4 (Itaration on kDataFrame kmers) </h2>\n",
    "<hr>\n",
    "<h3><b>Description</b></h3>\n",
    "<ol>\n",
    "    <li> Create kDataFrame with kmerSize = 21 </li> \n",
    "    <li> Insert some random kmers with random counts </li>\n",
    "    <li> Iterate over kDataFrames kmers and print Kmer and Count </li>\n",
    "    <li> Save the result in dictionary </li>\n",
    "<ol>"
   ]
  },
  {
   "cell_type": "markdown",
   "metadata": {},
   "source": [
    "## Create kmers list with 4 kmers"
   ]
  },
  {
   "cell_type": "code",
   "execution_count": 20,
   "metadata": {},
   "outputs": [],
   "source": [
    "kmers = [\"ATCATACTGATCGATCGATGC\", \"CGTAACCTATGCTAGCTAGAT\", \"CTGACTACTCAGAGCTAGCCT\",\"CAATCGCTGATACGATACGTA\"]"
   ]
  },
  {
   "cell_type": "markdown",
   "metadata": {},
   "source": [
    "## Create an empty kDataFrame"
   ]
  },
  {
   "cell_type": "code",
   "execution_count": 21,
   "metadata": {},
   "outputs": [],
   "source": [
    "kf2 = kp.kDataFrameMQF(21)"
   ]
  },
  {
   "cell_type": "markdown",
   "metadata": {},
   "source": [
    "### Insert all kmers using a for loop"
   ]
  },
  {
   "cell_type": "code",
   "execution_count": 22,
   "metadata": {
    "scrolled": true
   },
   "outputs": [
    {
     "name": "stdout",
     "output_type": "stream",
     "text": [
      "Inserting kmer: ATCATACTGATCGATCGATGC with count 64\n",
      "Inserting kmer: CGTAACCTATGCTAGCTAGAT with count 77\n",
      "Inserting kmer: CTGACTACTCAGAGCTAGCCT with count 43\n",
      "Inserting kmer: CAATCGCTGATACGATACGTA with count 21\n"
     ]
    }
   ],
   "source": [
    "for kmer in kmers:\n",
    "    random_count = random.randint(1,100) # generate random count between 1 and 100\n",
    "    print(\"Inserting kmer: %s with count %d\" % (kmer, random_count))\n",
    "    kf2.insert(kmer, random_count)"
   ]
  },
  {
   "cell_type": "markdown",
   "metadata": {},
   "source": [
    "### Iterate over all kmers and print their count and save them in a dictionary"
   ]
  },
  {
   "cell_type": "code",
   "execution_count": 23,
   "metadata": {},
   "outputs": [
    {
     "name": "stdout",
     "output_type": "stream",
     "text": [
      "retrieved kmer: AGGCTAGCTCTGAGTAGTCAG with count: 43\n",
      "retrieved kmer: ATCTAGCTAGCATAGGTTACG with count: 77\n",
      "retrieved kmer: ATCATACTGATCGATCGATGC with count: 64\n",
      "retrieved kmer: CAATCGCTGATACGATACGTA with count: 21\n"
     ]
    }
   ],
   "source": [
    "# Create empty dictionary\n",
    "kf2_data = {}\n",
    "\n",
    "# create iterator with the first position in the kDataFrame\n",
    "it = kf2.begin()\n",
    "\n",
    "while(it != kf2.end()):\n",
    "    \n",
    "    # Get the kmer string\n",
    "    kmer = it.getKmer()\n",
    "    \n",
    "    # Get the kmer count\n",
    "    count = it.getKmerCount()\n",
    "    \n",
    "    # Print the data\n",
    "    print(\"retrieved kmer: %s with count: %d\" % (kmer, count))\n",
    "    \n",
    "    # Save data in a dictionary\n",
    "    kf2_data[kmer] = count\n",
    "    \n",
    "    it.next() # Extremely Important!"
   ]
  },
  {
   "cell_type": "markdown",
   "metadata": {},
   "source": [
    "### Dump the dictionary data to a file"
   ]
  },
  {
   "cell_type": "code",
   "execution_count": 24,
   "metadata": {},
   "outputs": [],
   "source": [
    "with open(\"kf2_data.tsv\", 'w') as kf2:\n",
    "    kf2.write(\"kmer\\tcount\\n\")\n",
    "    for kmer,count in kf2_data.items():\n",
    "        kf2.write(\"%s\\t%d\\n\" % (kmer, count))"
   ]
  },
  {
   "cell_type": "markdown",
   "metadata": {},
   "source": [
    "<hr style=\"height:5px\">\n",
    "\n",
    "<h2  align=\"center\"> Example 5 (Kmers Indexing) </h2>\n",
    "<hr>\n",
    "<h3><b>Description</b></h3>\n",
    "<ol>\n",
    "    <li>Index fasta file using index() function and save the coloredKDataFrame in ckf1</li> \n",
    "    <li>Load the namesMap as a python dictionary and print it</li>\n",
    "    <li>Load the inverted namesMap as a python dictionary and print it</li>\n",
    "    <li>Query by kmer to get its color</li>\n",
    "    <li> Save the kDataFrame on disk </li>\n",
    "<ol>"
   ]
  },
  {
   "cell_type": "code",
   "execution_count": 25,
   "metadata": {},
   "outputs": [],
   "source": [
    "# Create kmerDecoder Object\n",
    "KD = kp.initialize_kmerDecoder(\"data/min_test_sample.fa\", 1000, \"kmers\", {\"k_size\" : 31})\n",
    "\n",
    "\n",
    "# Create kDataFrame Object\n",
    "KF = kp.kDataFrameMQF(31)\n",
    "\n",
    "ckf1 = kp.index(KD, \"data/min_test_sample.fa.names\", KF)"
   ]
  },
  {
   "cell_type": "code",
   "execution_count": 26,
   "metadata": {
    "scrolled": true
   },
   "outputs": [
    {
     "name": "stdout",
     "output_type": "stream",
     "text": [
      "{14: 'ENST00000616125.4', 23: 'ENST00000379409.6', 5: 'ENST00000420190.6', 19: 'ENST00000338591.7', 28: 'ENST00000428771.6', 10: 'ENST00000622503.4', 1: 'ENST00000641515.2', 24: 'ENST00000379407.7', 15: 'ENST00000620200.4', 6: 'ENST00000437963.5', 20: 'ENST00000622660.1', 29: 'ENST00000304952.10', 11: 'ENST00000618323.4', 2: 'ENST00000335137.4', 25: 'ENST00000491024.1', 22: 'ENST00000379410.7', 9: 'ENST00000618181.4', 26: 'ENST00000341290.6', 4: 'ENST00000332831.4', 21: 'ENST00000466300.1', 18: 'ENST00000327044.6', 13: 'ENST00000618779.4', 30: 'ENST00000484667.2', 27: 'ENST00000433179.3', 31: 'ENST00000624697.3', 8: 'ENST00000617307.4', 17: 'ENST00000455979.1', 12: 'ENST00000616016.4', 3: 'ENST00000426406.3', 7: 'ENST00000342066.7', 16: 'ENST00000341065.8'}\n",
      "-----------------\n",
      "{'ENST00000624697.3': 31, 'ENST00000379407.7': 24, 'ENST00000622503.4': 10, 'ENST00000622660.1': 20, 'ENST00000616125.4': 14, 'ENST00000428771.6': 28, 'ENST00000491024.1': 25, 'ENST00000338591.7': 19, 'ENST00000618779.4': 13, 'ENST00000433179.3': 27, 'ENST00000455979.1': 17, 'ENST00000341290.6': 26, 'ENST00000616016.4': 12, 'ENST00000342066.7': 7, 'ENST00000379410.7': 22, 'ENST00000426406.3': 3, 'ENST00000379409.6': 23, 'ENST00000484667.2': 30, 'ENST00000620200.4': 15, 'ENST00000341065.8': 16, 'ENST00000617307.4': 8, 'ENST00000641515.2': 1, 'ENST00000332831.4': 4, 'ENST00000466300.1': 21, 'ENST00000437963.5': 6, 'ENST00000304952.10': 29, 'ENST00000618181.4': 9, 'ENST00000327044.6': 18, 'ENST00000618323.4': 11, 'ENST00000335137.4': 2, 'ENST00000420190.6': 5}\n"
     ]
    }
   ],
   "source": [
    "namesMap = ckf1.names_map()\n",
    "inverted_namesMap = ckf1.inverse_names_map()\n",
    "\n",
    "print(namesMap)\n",
    "print(\"-----------------\")\n",
    "print(inverted_namesMap)"
   ]
  },
  {
   "cell_type": "markdown",
   "metadata": {},
   "source": [
    "### Iterate over the namesMap <span style=\"color:green\">[Optional]</span>"
   ]
  },
  {
   "cell_type": "markdown",
   "metadata": {},
   "source": [
    "### Get a kmer color from the coloredKDataFrame"
   ]
  },
  {
   "cell_type": "code",
   "execution_count": 27,
   "metadata": {},
   "outputs": [
    {
     "name": "stdout",
     "output_type": "stream",
     "text": [
      "61\n"
     ]
    }
   ],
   "source": [
    "kmer = \"TCGAAGCTGGAGAAGGCGGACATCCTGGAGA\"\n",
    "color = ckf1.getKmerColor(kmer)\n",
    "print(color)"
   ]
  },
  {
   "cell_type": "markdown",
   "metadata": {},
   "source": [
    "### Get all the transcripts Ids associated to this kmer"
   ]
  },
  {
   "cell_type": "code",
   "execution_count": 28,
   "metadata": {},
   "outputs": [
    {
     "name": "stdout",
     "output_type": "stream",
     "text": [
      "[7, 8, 9, 10, 12, 14, 16]\n"
     ]
    }
   ],
   "source": [
    "transcripts = ckf1.getSamplesIDForColor(68)\n",
    "print(transcripts)"
   ]
  },
  {
   "cell_type": "markdown",
   "metadata": {},
   "source": [
    "### Get all transcript names of that color"
   ]
  },
  {
   "cell_type": "code",
   "execution_count": 29,
   "metadata": {},
   "outputs": [
    {
     "name": "stdout",
     "output_type": "stream",
     "text": [
      "ENST00000342066.7\n",
      "ENST00000617307.4\n",
      "ENST00000618181.4\n",
      "ENST00000622503.4\n",
      "ENST00000616016.4\n",
      "ENST00000616125.4\n",
      "ENST00000341065.8\n"
     ]
    }
   ],
   "source": [
    "for transcript in transcripts:\n",
    "    print(namesMap[transcript])"
   ]
  },
  {
   "cell_type": "markdown",
   "metadata": {},
   "source": [
    "### Save the ckf1 to the disk as ckf1"
   ]
  },
  {
   "cell_type": "code",
   "execution_count": 30,
   "metadata": {},
   "outputs": [],
   "source": [
    "ckf1.save(\"ckf1\")"
   ]
  },
  {
   "cell_type": "markdown",
   "metadata": {},
   "source": [
    "<hr style=\"height:5px\">\n",
    "\n",
    "<h2  align=\"center\"> Example 6 (Loading ckf1 as kDataFrame and iterate over kmers & colors) </h2>\n",
    "<hr>\n",
    "<h3><b>Description</b></h3>\n",
    "<ol>\n",
    "    <li>Load the ckf1 coloredKDataFrame to kf5</li> \n",
    "    <li>Iterate over all kmers and get kmer:color \"color now instead of count\" [also can be loaded as coloredKDataframe]</li>\n",
    "    <li>Save the data to dictionary</li>\n",
    "<ol>"
   ]
  },
  {
   "cell_type": "markdown",
   "metadata": {},
   "source": [
    "### Loading ckf1 as kDataFrame"
   ]
  },
  {
   "cell_type": "code",
   "execution_count": 31,
   "metadata": {},
   "outputs": [],
   "source": [
    "kf5 = kp.kDataFrame.load(\"ckf1\")"
   ]
  },
  {
   "cell_type": "markdown",
   "metadata": {},
   "source": [
    "### To load as coloredkDataFrame <span style=\"color:brown\"> (will not be used in the next steps) </span>"
   ]
  },
  {
   "cell_type": "code",
   "execution_count": 32,
   "metadata": {},
   "outputs": [],
   "source": [
    "ckf2 = kp.colored_kDataFrame.load(\"ckf1\")"
   ]
  },
  {
   "cell_type": "markdown",
   "metadata": {},
   "source": [
    "### Create an Iterator"
   ]
  },
  {
   "cell_type": "code",
   "execution_count": 33,
   "metadata": {},
   "outputs": [],
   "source": [
    "kf5_it = kf5.begin()"
   ]
  },
  {
   "cell_type": "markdown",
   "metadata": {},
   "source": [
    "### Iterate and print the first 5 kmers with their colors"
   ]
  },
  {
   "cell_type": "code",
   "execution_count": 34,
   "metadata": {},
   "outputs": [
    {
     "name": "stdout",
     "output_type": "stream",
     "text": [
      "Kmer  : ACTTCCCAGCCCGCTTCCCGTCCCACCCTCG\n",
      "Color : 64\n",
      "Color2: 64\n",
      "-------------------------------\n",
      "Kmer  : CCTCTCCGTCCGAGTCTTTGGGGGGCTCGTC\n",
      "Color : 45\n",
      "Color2: 45\n",
      "-------------------------------\n",
      "Kmer  : GTACTCGGCCGGCGGCTATGACGGGGCCTCC\n",
      "Color : 40\n",
      "Color2: 40\n",
      "-------------------------------\n",
      "Kmer  : AGGGCACCCTCCAGCACGGCCACGCCCGCTG\n",
      "Color : 40\n",
      "Color2: 40\n",
      "-------------------------------\n",
      "Kmer  : CTGCAGCCGCCGCCAGAGGGTTTCCTTCGGC\n",
      "Color : 18\n",
      "Color2: 18\n",
      "-------------------------------\n"
     ]
    }
   ],
   "source": [
    "for i in range(5):\n",
    "    \n",
    "    # Get the kmer\n",
    "    kmer = kf5_it.getKmer()\n",
    "    \n",
    "    # Get the color (stored as count)\n",
    "    color = kf5_it.getKmerCount()\n",
    "    \n",
    "    # Verify by querying the kmer on the colored kDataFrame\n",
    "    \n",
    "    color2 = ckf1.getKmerColor(kmer)\n",
    "    \n",
    "    print(\"Kmer  : %s\" % kmer)\n",
    "    print(\"Color : %d\" % color)\n",
    "    print(\"Color2: %d\" % color2)\n",
    "    print(\"-------------------------------\")\n",
    "    \n",
    "    kf5_it.next() # Extremely Important !"
   ]
  },
  {
   "cell_type": "markdown",
   "metadata": {},
   "source": [
    "<hr style=\"height:5px\">\n",
    "\n",
    "<h2  align=\"center\"> Example 7 (Set Functions) </h2>\n",
    "<h4  align=\"center\"> Works only on kDataFrameMQF </h4>\n",
    "<hr>\n",
    "<h3><b>Description</b></h3>\n",
    "<ol>\n",
    "    <li>Create two kDataFrames with same kmer size and fill them with random kmers</li>\n",
    "    <li>Apply set functions diff, intersect, union and dump the resultant kDataFrames</li>\n",
    "    \n",
    "<ol>"
   ]
  },
  {
   "cell_type": "markdown",
   "metadata": {},
   "source": [
    "## Function to generate random kmers with random counts"
   ]
  },
  {
   "cell_type": "code",
   "execution_count": 35,
   "metadata": {},
   "outputs": [],
   "source": [
    "def generate_kmers(kSize, kmers_no):\n",
    "    kmers_list = []\n",
    "    for i in range(kmers_no):\n",
    "        _kmer = \"\".join([random.choice('ACGT') for _ in range(kSize)])\n",
    "        _count = random.randint(1, 1000)\n",
    "        kmers_list.append((_kmer, _count))\n",
    "\n",
    "    return kmers_list"
   ]
  },
  {
   "cell_type": "code",
   "execution_count": 36,
   "metadata": {},
   "outputs": [],
   "source": [
    "def dumpKmers(kFrame):\n",
    "    it = kFrame.begin()\n",
    "    counter = 1\n",
    "    while (it != kFrame.end()):\n",
    "        # Get the kmer string\n",
    "        kmer = it.getKmer()\n",
    "\n",
    "        # Get the kmer count\n",
    "        count = it.getKmerCount()\n",
    "\n",
    "        # Print the data\n",
    "        print(\"%d- retrieved kmer: %s with count: %d\" % (counter, kmer, count))\n",
    "        counter +=1\n",
    "        \n",
    "        it.next()"
   ]
  },
  {
   "cell_type": "code",
   "execution_count": 37,
   "metadata": {},
   "outputs": [],
   "source": [
    "kSize = 31\n",
    "\n",
    "# Empty kDataFrames\n",
    "## auto binding to vector<kDataFrame*>\n",
    "kFrames_vec = [kp.kDataFrameMQF(kSize), kp.kDataFrameMQF(kSize)]\n",
    "\n",
    "\n",
    "# Create random kmers list\n",
    "kmers_list1 = generate_kmers(kSize, kmers_no=20)\n",
    "kmers_list2 = generate_kmers(kSize, kmers_no=10)\n",
    "\n",
    "# Replicate some kmers from kmers_list1 in kmers_list2 to make sure len(intersection) > 0\n",
    "kmers_list2 += kmers_list1[0:10]\n",
    "\n",
    "# Inserting Kmers\n",
    "for kmer in kmers_list1:\n",
    "    kFrames_vec[0].insert(kmer[0], kmer[1])\n",
    "\n",
    "for kmer in kmers_list2:\n",
    "    kFrames_vec[1].insert(kmer[0], kmer[1])\n",
    "\n",
    "# Apply kFrameIntersect\n",
    "intersect_kFrame = kp.kFrameIntersect(kFrames_vec)\n",
    "\n",
    "# Apply kFrameDiff\n",
    "diff_kFrame = kp.kFrameDiff(kFrames_vec)\n",
    "\n",
    "# Apply kFrameUnion\n",
    "union_kFrame = kp.kFrameUnion(kFrames_vec)"
   ]
  },
  {
   "cell_type": "markdown",
   "metadata": {},
   "source": [
    "### Dumping kmers of kFrames_vec[0] "
   ]
  },
  {
   "cell_type": "code",
   "execution_count": 38,
   "metadata": {
    "scrolled": true
   },
   "outputs": [
    {
     "name": "stdout",
     "output_type": "stream",
     "text": [
      "1- retrieved kmer: CTACGACGAAAGCCTGGCTTCTCCAAAGGGA with count: 833\n",
      "2- retrieved kmer: CAGCCTGGCTCGTCAGAACAAGGACTTTCAG with count: 738\n",
      "3- retrieved kmer: AAGGCCGCGCCGTCGTGAAAGGGGACACCCG with count: 314\n",
      "4- retrieved kmer: ACAAAACGCGCCGCAAGTGGGATTTTAAATC with count: 583\n",
      "5- retrieved kmer: AACTGTCCATGTCCATGCTTACCACTCTCAT with count: 268\n",
      "6- retrieved kmer: TAGCGTATACATTGAACTAAGACGCTTGATC with count: 917\n",
      "7- retrieved kmer: TCCCCGAGTACAGACCCCCGTCCACCTACTC with count: 324\n",
      "8- retrieved kmer: AGACTCTTGGACACATATGTCTACGAATATG with count: 745\n",
      "9- retrieved kmer: TTTTAACGCTGGTATTGCGCAAGCACAGAAC with count: 232\n",
      "10- retrieved kmer: AGCTACCAATGTATACTTTCAGCAGATGACC with count: 466\n",
      "11- retrieved kmer: AGAACGCAGTGAGAGGCTTCCAAAAACAATG with count: 223\n",
      "12- retrieved kmer: GAAAGCACTTAGTTACACAAGAGGCCGAAGC with count: 225\n",
      "13- retrieved kmer: GATTTCTCAAGGTCCTGGTAAGCGGCCGGCC with count: 222\n",
      "14- retrieved kmer: TTGGAAAGCCTTTGCCTGTTCGGCCGTGCAC with count: 602\n",
      "15- retrieved kmer: AAGCCTTACGGCATTATGCACCGGCCTAACT with count: 214\n",
      "16- retrieved kmer: AATTATAATTCGATCCCGAGATAAAGACTTC with count: 327\n",
      "17- retrieved kmer: TAAGGGAATGGTAGACGCCGGGAACTCTTTC with count: 897\n",
      "18- retrieved kmer: AATGAGGTCGCAACTCCCTATTCCAGGTCAA with count: 268\n",
      "19- retrieved kmer: CTATAGGCGTTCTCAGGGTAAGCATCCAGCG with count: 276\n",
      "20- retrieved kmer: CACGTGTTGTCGGAGATCGCAATGTTCCAAC with count: 993\n"
     ]
    }
   ],
   "source": [
    "dumpKmers(kFrames_vec[0])"
   ]
  },
  {
   "cell_type": "markdown",
   "metadata": {},
   "source": [
    "### Dumping kmers of kFrames_vec[1]"
   ]
  },
  {
   "cell_type": "code",
   "execution_count": 39,
   "metadata": {
    "scrolled": true
   },
   "outputs": [
    {
     "name": "stdout",
     "output_type": "stream",
     "text": [
      "1- retrieved kmer: CTACGACGAAAGCCTGGCTTCTCCAAAGGGA with count: 833\n",
      "2- retrieved kmer: CTGCACTCCAACTTGACAATAAGATCCCGCG with count: 521\n",
      "3- retrieved kmer: ACTTAGTGCTCCTTACTTTAGTAAGTCCGGC with count: 541\n",
      "4- retrieved kmer: AAGACCACAAAGTACGTCCTCGTGAAAAGGT with count: 772\n",
      "5- retrieved kmer: AACTGTCCATGTCCATGCTTACCACTCTCAT with count: 268\n",
      "6- retrieved kmer: GCGGTACCGCAAACCCCAACTTTTTCCTGCC with count: 417\n",
      "7- retrieved kmer: TAGCGTATACATTGAACTAAGACGCTTGATC with count: 917\n",
      "8- retrieved kmer: CAGTTAGGTATGTAGGATGATGTCCCTGGGG with count: 752\n",
      "9- retrieved kmer: CTACCTAAGTCGGCAGGCCAAACGAACGCGC with count: 46\n",
      "10- retrieved kmer: AACAAGTTCGCCATAAAAGGGGGTCAGTCCT with count: 620\n",
      "11- retrieved kmer: AGACTCTTGGACACATATGTCTACGAATATG with count: 745\n",
      "12- retrieved kmer: CTTAGCACAGTATCCATCCCACTCGACAACC with count: 759\n",
      "13- retrieved kmer: AGAACGCAGTGAGAGGCTTCCAAAAACAATG with count: 223\n",
      "14- retrieved kmer: CCCGCCGTTATCAGGAGGAGGGGGCGTTGCC with count: 552\n",
      "15- retrieved kmer: GATTTCTCAAGGTCCTGGTAAGCGGCCGGCC with count: 222\n",
      "16- retrieved kmer: AAGCCTTACGGCATTATGCACCGGCCTAACT with count: 214\n",
      "17- retrieved kmer: AATTATAATTCGATCCCGAGATAAAGACTTC with count: 327\n",
      "18- retrieved kmer: TAAGGGAATGGTAGACGCCGGGAACTCTTTC with count: 897\n",
      "19- retrieved kmer: CTATAGGCGTTCTCAGGGTAAGCATCCAGCG with count: 276\n",
      "20- retrieved kmer: TAAGCTGGTTAACAGTATGCTGCGGCTACCC with count: 341\n"
     ]
    }
   ],
   "source": [
    "dumpKmers(kFrames_vec[1])"
   ]
  },
  {
   "cell_type": "markdown",
   "metadata": {},
   "source": [
    "### Dump diff_kFrame"
   ]
  },
  {
   "cell_type": "code",
   "execution_count": 40,
   "metadata": {
    "scrolled": true
   },
   "outputs": [
    {
     "name": "stdout",
     "output_type": "stream",
     "text": [
      "1- retrieved kmer: CAGCCTGGCTCGTCAGAACAAGGACTTTCAG with count: 738\n",
      "2- retrieved kmer: AAGGCCGCGCCGTCGTGAAAGGGGACACCCG with count: 314\n",
      "3- retrieved kmer: ACAAAACGCGCCGCAAGTGGGATTTTAAATC with count: 583\n",
      "4- retrieved kmer: TCCCCGAGTACAGACCCCCGTCCACCTACTC with count: 324\n",
      "5- retrieved kmer: TTTTAACGCTGGTATTGCGCAAGCACAGAAC with count: 232\n",
      "6- retrieved kmer: AGCTACCAATGTATACTTTCAGCAGATGACC with count: 466\n",
      "7- retrieved kmer: GAAAGCACTTAGTTACACAAGAGGCCGAAGC with count: 225\n",
      "8- retrieved kmer: TTGGAAAGCCTTTGCCTGTTCGGCCGTGCAC with count: 602\n",
      "9- retrieved kmer: AATGAGGTCGCAACTCCCTATTCCAGGTCAA with count: 268\n",
      "10- retrieved kmer: CACGTGTTGTCGGAGATCGCAATGTTCCAAC with count: 993\n"
     ]
    }
   ],
   "source": [
    "dumpKmers(diff_kFrame)"
   ]
  },
  {
   "cell_type": "markdown",
   "metadata": {},
   "source": [
    "### Dump instersect_kFrame"
   ]
  },
  {
   "cell_type": "code",
   "execution_count": 41,
   "metadata": {},
   "outputs": [
    {
     "name": "stdout",
     "output_type": "stream",
     "text": [
      "1- retrieved kmer: CTACGACGAAAGCCTGGCTTCTCCAAAGGGA with count: 833\n",
      "2- retrieved kmer: AACTGTCCATGTCCATGCTTACCACTCTCAT with count: 268\n",
      "3- retrieved kmer: TAGCGTATACATTGAACTAAGACGCTTGATC with count: 917\n",
      "4- retrieved kmer: AGACTCTTGGACACATATGTCTACGAATATG with count: 745\n",
      "5- retrieved kmer: AGAACGCAGTGAGAGGCTTCCAAAAACAATG with count: 223\n",
      "6- retrieved kmer: GATTTCTCAAGGTCCTGGTAAGCGGCCGGCC with count: 222\n",
      "7- retrieved kmer: AAGCCTTACGGCATTATGCACCGGCCTAACT with count: 214\n",
      "8- retrieved kmer: AATTATAATTCGATCCCGAGATAAAGACTTC with count: 327\n",
      "9- retrieved kmer: TAAGGGAATGGTAGACGCCGGGAACTCTTTC with count: 897\n",
      "10- retrieved kmer: CTATAGGCGTTCTCAGGGTAAGCATCCAGCG with count: 276\n"
     ]
    }
   ],
   "source": [
    "dumpKmers(intersect_kFrame)"
   ]
  },
  {
   "cell_type": "markdown",
   "metadata": {},
   "source": [
    "### Dump union_kFrame"
   ]
  },
  {
   "cell_type": "code",
   "execution_count": 42,
   "metadata": {},
   "outputs": [
    {
     "name": "stdout",
     "output_type": "stream",
     "text": [
      "1- retrieved kmer: CTACGACGAAAGCCTGGCTTCTCCAAAGGGA with count: 1666\n",
      "2- retrieved kmer: CTGCACTCCAACTTGACAATAAGATCCCGCG with count: 521\n",
      "3- retrieved kmer: CAGCCTGGCTCGTCAGAACAAGGACTTTCAG with count: 738\n",
      "4- retrieved kmer: ACTTAGTGCTCCTTACTTTAGTAAGTCCGGC with count: 541\n",
      "5- retrieved kmer: AAGACCACAAAGTACGTCCTCGTGAAAAGGT with count: 772\n",
      "6- retrieved kmer: AAGGCCGCGCCGTCGTGAAAGGGGACACCCG with count: 314\n",
      "7- retrieved kmer: ACAAAACGCGCCGCAAGTGGGATTTTAAATC with count: 583\n",
      "8- retrieved kmer: AACTGTCCATGTCCATGCTTACCACTCTCAT with count: 536\n",
      "9- retrieved kmer: GCGGTACCGCAAACCCCAACTTTTTCCTGCC with count: 417\n",
      "10- retrieved kmer: TAGCGTATACATTGAACTAAGACGCTTGATC with count: 1834\n",
      "11- retrieved kmer: CAGTTAGGTATGTAGGATGATGTCCCTGGGG with count: 752\n",
      "12- retrieved kmer: TCCCCGAGTACAGACCCCCGTCCACCTACTC with count: 324\n",
      "13- retrieved kmer: CTACCTAAGTCGGCAGGCCAAACGAACGCGC with count: 46\n",
      "14- retrieved kmer: AACAAGTTCGCCATAAAAGGGGGTCAGTCCT with count: 620\n",
      "15- retrieved kmer: AGACTCTTGGACACATATGTCTACGAATATG with count: 1490\n",
      "16- retrieved kmer: CTTAGCACAGTATCCATCCCACTCGACAACC with count: 759\n",
      "17- retrieved kmer: TTTTAACGCTGGTATTGCGCAAGCACAGAAC with count: 232\n",
      "18- retrieved kmer: AGCTACCAATGTATACTTTCAGCAGATGACC with count: 466\n",
      "19- retrieved kmer: AGAACGCAGTGAGAGGCTTCCAAAAACAATG with count: 446\n",
      "20- retrieved kmer: CCCGCCGTTATCAGGAGGAGGGGGCGTTGCC with count: 552\n",
      "21- retrieved kmer: GAAAGCACTTAGTTACACAAGAGGCCGAAGC with count: 225\n",
      "22- retrieved kmer: GATTTCTCAAGGTCCTGGTAAGCGGCCGGCC with count: 444\n",
      "23- retrieved kmer: TTGGAAAGCCTTTGCCTGTTCGGCCGTGCAC with count: 602\n",
      "24- retrieved kmer: AAGCCTTACGGCATTATGCACCGGCCTAACT with count: 428\n",
      "25- retrieved kmer: AATTATAATTCGATCCCGAGATAAAGACTTC with count: 654\n",
      "26- retrieved kmer: TAAGGGAATGGTAGACGCCGGGAACTCTTTC with count: 1794\n",
      "27- retrieved kmer: AATGAGGTCGCAACTCCCTATTCCAGGTCAA with count: 268\n",
      "28- retrieved kmer: CTATAGGCGTTCTCAGGGTAAGCATCCAGCG with count: 552\n",
      "29- retrieved kmer: TAAGCTGGTTAACAGTATGCTGCGGCTACCC with count: 341\n",
      "30- retrieved kmer: CACGTGTTGTCGGAGATCGCAATGTTCCAAC with count: 993\n"
     ]
    }
   ],
   "source": [
    "dumpKmers(union_kFrame)"
   ]
  }
 ],
 "metadata": {
  "kernelspec": {
   "display_name": "Python 3",
   "language": "python",
   "name": "python3"
  },
  "language_info": {
   "codemirror_mode": {
    "name": "ipython",
    "version": 3
   },
   "file_extension": ".py",
   "mimetype": "text/x-python",
   "name": "python",
   "nbconvert_exporter": "python",
   "pygments_lexer": "ipython3",
   "version": "3.6.7"
  }
 },
 "nbformat": 4,
 "nbformat_minor": 2
}
