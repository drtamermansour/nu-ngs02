{
 "cells": [
  {
   "cell_type": "markdown",
   "metadata": {},
   "source": [
    "<h1 style=\"color:purple\"  align=\"center\"><b><u>kProcessor Tutorial</u></b></h1>"
   ]
  },
  {
   "cell_type": "markdown",
   "metadata": {},
   "source": [
    "### Data Download"
   ]
  },
  {
   "cell_type": "code",
   "execution_count": null,
   "metadata": {},
   "outputs": [],
   "source": [
    "#!wget https://github.com/drtamermansour/nu-ngs02/raw/master/Day5/kProcessor/data/data.zip\n",
    "#!unzip data.zip\n",
    "#!ls data/"
   ]
  },
  {
   "cell_type": "markdown",
   "metadata": {},
   "source": [
    "### Import kprocessor python package"
   ]
  },
  {
   "cell_type": "code",
   "execution_count": 1,
   "metadata": {},
   "outputs": [],
   "source": [
    "import kProcessor as kp"
   ]
  },
  {
   "cell_type": "markdown",
   "metadata": {},
   "source": [
    "### Import random library to generate random numbers"
   ]
  },
  {
   "cell_type": "code",
   "execution_count": 2,
   "metadata": {},
   "outputs": [],
   "source": [
    "import random"
   ]
  },
  {
   "cell_type": "markdown",
   "metadata": {},
   "source": [
    "<h2 align=\"center\"> <u> Main Classes and Functions </u> </h2>\n",
    "<hr>\n",
    "\n",
    "\n",
    "<h3 style=\"color:green\">1- kDataFrame Object Instantiation</h3>\n",
    "<ul>\n",
    "    <li><b>kp.kDataFrame(kSize): </b>Create an empty kDataFrame with predefined kmerSize</li>\n",
    "</ul>\n",
    "\n",
    "<hr style=\"height:1px;\">\n",
    "\n",
    "<h3 style=\"color:green\">2- kDataFrame filling (From fastq file)</h3>\n",
    "<ul>\n",
    "    <li><b>kp.parseSequences(fastq_file, no_threads, kDataFrame): </b>Parse the fastq and insert the kmers in the kDataFrame with their count (kmer Counting)</li>\n",
    "</ul>\n",
    "\n",
    "<hr style=\"height:1px;\">\n",
    "\n",
    "<h3 style=\"color:green\">3- kDataFrame basic functions</h3>\n",
    "<ul>\n",
    "<li><b>kDataFrame.size(): </b>returns the number of kmers in the kDataFrame</li>\n",
    "<li><b>kDataFrame.max_size(): </b>returns the maximum number of kmers that the kDataframe can hold.</li>\n",
    "<li><b>kDataFrame.save(fileName): </b>Save the kDataFrame on disk.</li>\n",
    "<li><b>kp.kDataFrame.load(): </b>Load the kDataFrame From disk and return kDataFrame object</li>\n",
    "</ul>\n",
    "\n",
    "<hr style=\"height:1px;\">\n",
    "\n",
    "<h3 style=\"color:green\">4- kDataFrame kmer-specific functions</h3>\n",
    "<ul>\n",
    "<li><b>kDataFrame.insert(kmer): </b>Insert a kmer</li>\n",
    "<li><b>kDataFrame.insert(kmer, count): </b>Insert a kmer with it's count</li>\n",
    "<li><b>kDataFrame.setCount(kmer, count): </b>set the kmer count</li>\n",
    "<li><b>kDataFrame.count(kmer): </b>returns the kmer count (number of times that kmer was inserted)</li>\n",
    "<li><b>kDataFrame.erase(kmer): </b>remove a kmer from the kDataFrame</li>\n",
    "</ul>\n",
    "\n",
    "\n",
    "<hr style=\"height:1px;\">\n",
    "\n",
    "<h3 style=\"color:green\"><b>5- kDataFrameIterator Functions</b></h3>\n",
    "<ul>\n",
    "<li><b>kDataFrameIterator.begin(): </b>Return the first position of a kDataFrame object</li>\n",
    "<li><b>kDataFrameIterator.end(): </b>Return the last position of a kDataFrame object</li>\n",
    "<li><b>kDataFrameIterator.next(): </b>Increment the iterator position by one</li>\n",
    "<li><b>kDataFrameIterator.getKmer(): </b>Return the kmer at the current iterator position</li>\n",
    "<li><b>kDataFrameIterator.getKmerCount(): </b>Return the kmer count at the current iterator position</li>\n",
    "<li><b>kDataFrameIterator.setKmerCount(): </b>Set the kmer count at the current iterator position</li>\n",
    "</ul>\n",
    "\n",
    "<hr style=\"height:1px;\">\n",
    "    \n",
    "<h3 style=\"color:green\"><b>6- coloredKDataFrame instantiation & filling</b></h3>\n",
    "<ul>\n",
    "<li><b>kp.index(fastaFile, namesFile , kmerSize): </b>Perform the kmers indexing to the given fasta file with respect to the namesFile and return coloredKDataFrame object</li>\n",
    "</ul>\n",
    "    \n",
    "<hr style=\"height:1px;\">\n",
    " \n",
    "<h3 style=\"color:green\">7- colored kDataFrame functions</h3>\n",
    "<ul>\n",
    "    <li><b>Inherits All functions in the kDataFrame</b></li>\n",
    "    <li><b>colored_kDataFrame.getKmerColor(kmer): </b>returns the color of the kmer</li>\n",
    "    <li><b>colored_kDataFrame.getSamplesIDForColor(color, colorsList): </b>take the colorsList and fill it with all the transcript ids contains that color</li>\n",
    "    <li><b>colored_kDataFrame.getSamplesIDForKmer(kmer, colorsList): </b>take the colorsList and fill it with all the transcript ids contains that kmer</li>\n",
    "    <li><b>colored_kDataFrame.namesMap: </b>unordered_map contains namesMap information {tr_id:tr_name}</li>\n",
    "    <li><b>colored_kDataFrame.namesMapInv: </b>unordered_map contains namesMap information {tr_name:tr_id}</li>\n",
    "    <li><b>colored_kDataFrame.load(fileNamePrefix): </b>load the coloredkDataFrame from disk and returns coloredkDataFrame object</li>\n",
    "    <li><b>colored_kDataFrame.save(fileNamePrefix): </b>save the coloredkDataFrame to disk</li>\n",
    "</ul>\n",
    "\n",
    "<h3 style=\"color:green\"><b>7- kDataFrames set functions</b></h3>\n",
    "<ul>\n",
    "<li><b>kp.kFrameDiff([kDataFrames]): </b> retrieve list of kDataFrames and return a kDataFrame holds the difference between them</li>\n",
    "    <li><b>kp.kFrameIntersect([kDataFrames]): </b> retrieve list of kDataFrames and return a kDataFrame holds the Intersection between them</li>\n",
    "    <li><b>kp.kFrameUnion([kDataFrames]): </b> retrieve list of kDataFrames and return a kDataFrame holds the Union between them</li>\n",
    "</ul>"
   ]
  },
  {
   "cell_type": "markdown",
   "metadata": {},
   "source": [
    "<hr style=\"height:2px;\">"
   ]
  },
  {
   "cell_type": "markdown",
   "metadata": {},
   "source": [
    "<h2  align=\"center\"> Example 1 (Create a kDataFrame from a fastq file) </h2>\n",
    "<hr>\n",
    "<h3><b>Description</b></h3>\n",
    "<ol>\n",
    "    <li> Create an empty kDataFrame with kmerSize = 21 </li> \n",
    "    <li> Load a fasta file into a kDataFrame</li>\n",
    "    <li> Save the kDataFrame on disk </li>\n",
    "<ol>"
   ]
  },
  {
   "cell_type": "markdown",
   "metadata": {},
   "source": [
    "### Create an empty kDataFrame"
   ]
  },
  {
   "cell_type": "code",
   "execution_count": 3,
   "metadata": {},
   "outputs": [],
   "source": [
    "kf3 = kp.kDataFrameMQF(21)"
   ]
  },
  {
   "cell_type": "markdown",
   "metadata": {},
   "source": [
    "### Parse the fastq file into the kf3 kDataFrame"
   ]
  },
  {
   "cell_type": "code",
   "execution_count": 4,
   "metadata": {},
   "outputs": [],
   "source": [
    "kp.parseSequences(\"data/test.fastq\", 1, kf3)"
   ]
  },
  {
   "cell_type": "markdown",
   "metadata": {},
   "source": [
    "### Print the kDataFrame3 size and the kmer size used in it"
   ]
  },
  {
   "cell_type": "code",
   "execution_count": 5,
   "metadata": {},
   "outputs": [
    {
     "name": "stdout",
     "output_type": "stream",
     "text": [
      "14481\n",
      "21\n"
     ]
    }
   ],
   "source": [
    "print(kf3.size())\n",
    "print(kf3.getkSize())"
   ]
  },
  {
   "cell_type": "markdown",
   "metadata": {},
   "source": [
    "### Save the kDataFrame on disk with a name \"kf3\""
   ]
  },
  {
   "cell_type": "code",
   "execution_count": 6,
   "metadata": {},
   "outputs": [],
   "source": [
    "kf3.save(\"kf3\")"
   ]
  },
  {
   "cell_type": "markdown",
   "metadata": {},
   "source": [
    "<hr style=\"height:5px\">\n",
    "\n",
    "<h2  align=\"center\"> Example 2 (Loading the kDataFrame from disk) </h2>\n",
    "<hr>\n",
    "<h3><b>Description</b></h3>\n",
    "<ol>\n",
    "    <li> Load the kf3 kDataFrame in an new kDataFrame with name kf4</li> \n",
    "    <li>Verify the loading by printing the kmerSize and total size</li>\n",
    "    <li> Save the kDataFrame on disk </li>\n",
    "<ol>"
   ]
  },
  {
   "cell_type": "code",
   "execution_count": 7,
   "metadata": {},
   "outputs": [],
   "source": [
    "kf4 = kp.kDataFrame.load(\"kf3\")"
   ]
  },
  {
   "cell_type": "code",
   "execution_count": 8,
   "metadata": {},
   "outputs": [
    {
     "name": "stdout",
     "output_type": "stream",
     "text": [
      "14481\n",
      "21\n"
     ]
    }
   ],
   "source": [
    "print(kf4.size())\n",
    "print(kf4.getkSize())"
   ]
  },
  {
   "cell_type": "markdown",
   "metadata": {},
   "source": [
    "<h2  align=\"center\"> Example 3 (kDataFrame Manipulation) <h2>\n",
    "<hr>\n",
    "<h3><b>Description</b></h3>\n",
    "<ol>\n",
    "    <li> Create kDataFrame with kmerSize = 21 </li> \n",
    "    <li> Insert some random kmers with random counts </li>\n",
    "    <li> Query by each kmer and check the count </li>\n",
    "    <li> Insert a pre-exist kmer and check it's count </li>\n",
    "<ol>"
   ]
  },
  {
   "cell_type": "markdown",
   "metadata": {},
   "source": [
    "### Kmers List"
   ]
  },
  {
   "cell_type": "code",
   "execution_count": 9,
   "metadata": {},
   "outputs": [],
   "source": [
    "kmers = [\"CTGACTACTCAGAGCTAGCCT\", \"CGTAACCTATGCTAGCTAGAT\"]"
   ]
  },
  {
   "cell_type": "markdown",
   "metadata": {},
   "source": [
    "### Instantiate an object from the class kDataFrameMQF\n"
   ]
  },
  {
   "cell_type": "code",
   "execution_count": 10,
   "metadata": {},
   "outputs": [],
   "source": [
    "kf = kp.kDataFrameMQF(21) # Empty kDataFrame"
   ]
  },
  {
   "cell_type": "markdown",
   "metadata": {},
   "source": [
    "### Print the size of the kDataFrame"
   ]
  },
  {
   "cell_type": "code",
   "execution_count": 11,
   "metadata": {},
   "outputs": [
    {
     "name": "stdout",
     "output_type": "stream",
     "text": [
      "kf size: 0\n"
     ]
    }
   ],
   "source": [
    "print(\"kf size: %d\" % kf.size())"
   ]
  },
  {
   "cell_type": "markdown",
   "metadata": {},
   "source": [
    "### Insert the first kmer and set count to 1 & the second kmer with count 10 "
   ]
  },
  {
   "cell_type": "code",
   "execution_count": 12,
   "metadata": {},
   "outputs": [
    {
     "name": "stdout",
     "output_type": "stream",
     "text": [
      "Inserting 2 kmers\n"
     ]
    },
    {
     "data": {
      "text/plain": [
       "True"
      ]
     },
     "execution_count": 12,
     "metadata": {},
     "output_type": "execute_result"
    }
   ],
   "source": [
    "print(\"Inserting 2 kmers\")\n",
    "kf.insert(kmers[0], 1)\n",
    "kf.insert(kmers[1], 10)"
   ]
  },
  {
   "cell_type": "markdown",
   "metadata": {},
   "source": [
    "### Print the size of the kDataFrame & counts of kmer1 and kmer2"
   ]
  },
  {
   "cell_type": "code",
   "execution_count": 13,
   "metadata": {
    "scrolled": true
   },
   "outputs": [
    {
     "name": "stdout",
     "output_type": "stream",
     "text": [
      "kf size: 2\n",
      "Kmer1 Count: 1\n",
      "Kmer2 Count: 10\n"
     ]
    }
   ],
   "source": [
    "print(\"kf size: %d\" % kf.size())\n",
    "# Print the first kmer count \n",
    "print(\"Kmer1 Count: %d\" % kf.count(kmers[0]))\n",
    "print(\"Kmer2 Count: %d\" % kf.count(kmers[1]))"
   ]
  },
  {
   "cell_type": "markdown",
   "metadata": {},
   "source": [
    "### Insert a duplicate kmer without count"
   ]
  },
  {
   "cell_type": "code",
   "execution_count": 14,
   "metadata": {},
   "outputs": [
    {
     "name": "stdout",
     "output_type": "stream",
     "text": [
      "[*] Inserting kmer 1 again\n"
     ]
    },
    {
     "data": {
      "text/plain": [
       "True"
      ]
     },
     "execution_count": 14,
     "metadata": {},
     "output_type": "execute_result"
    }
   ],
   "source": [
    "print(\"[*] Inserting kmer 1 again\")\n",
    "kf.insert(kmers[0])"
   ]
  },
  {
   "cell_type": "markdown",
   "metadata": {},
   "source": [
    "### Print the first kmer count again"
   ]
  },
  {
   "cell_type": "code",
   "execution_count": 15,
   "metadata": {
    "scrolled": true
   },
   "outputs": [
    {
     "name": "stdout",
     "output_type": "stream",
     "text": [
      "Kmer1 Count: 2\n"
     ]
    }
   ],
   "source": [
    "print(\"Kmer1 Count: %d\" % kf.count(kmers[0]))"
   ]
  },
  {
   "cell_type": "markdown",
   "metadata": {},
   "source": [
    "### Erase kmer1 from the kDataFrame"
   ]
  },
  {
   "cell_type": "code",
   "execution_count": 16,
   "metadata": {},
   "outputs": [
    {
     "name": "stdout",
     "output_type": "stream",
     "text": [
      "[*] Erasing kmer1\n"
     ]
    },
    {
     "data": {
      "text/plain": [
       "True"
      ]
     },
     "execution_count": 16,
     "metadata": {},
     "output_type": "execute_result"
    }
   ],
   "source": [
    "print(\"[*] Erasing kmer1\")\n",
    "kf.erase(kmers[0])"
   ]
  },
  {
   "cell_type": "markdown",
   "metadata": {},
   "source": [
    "### Print the first kmer count again and the kDataframe Size"
   ]
  },
  {
   "cell_type": "code",
   "execution_count": 17,
   "metadata": {
    "scrolled": true
   },
   "outputs": [
    {
     "name": "stdout",
     "output_type": "stream",
     "text": [
      "Kmer1 Count: 0\n",
      "kf size: 1\n"
     ]
    }
   ],
   "source": [
    "print(\"Kmer1 Count: %d\" % kf.count(kmers[0]))\n",
    "print(\"kf size: %d\" % kf.size())"
   ]
  },
  {
   "cell_type": "markdown",
   "metadata": {},
   "source": [
    "<hr style=\"height:5px\">"
   ]
  },
  {
   "cell_type": "markdown",
   "metadata": {},
   "source": [
    "<h2  align=\"center\"> Example 4 (Itaration on kDataFrame kmers) </h2>\n",
    "<hr>\n",
    "<h3><b>Description</b></h3>\n",
    "<ol>\n",
    "    <li> Create kDataFrame with kmerSize = 21 </li> \n",
    "    <li> Insert some random kmers with random counts </li>\n",
    "    <li> Iterate over kDataFrames kmers and print Kmer and Count </li>\n",
    "    <li> Save the result in dictionary </li>\n",
    "<ol>"
   ]
  },
  {
   "cell_type": "markdown",
   "metadata": {},
   "source": [
    "## Create kmers list with 4 kmers"
   ]
  },
  {
   "cell_type": "code",
   "execution_count": 18,
   "metadata": {},
   "outputs": [],
   "source": [
    "kmers = [\"ATCATACTGATCGATCGATGC\", \"CGTAACCTATGCTAGCTAGAT\", \"CTGACTACTCAGAGCTAGCCT\",\"CAATCGCTGATACGATACGTA\"]"
   ]
  },
  {
   "cell_type": "markdown",
   "metadata": {},
   "source": [
    "## Create an empty kDataFrame"
   ]
  },
  {
   "cell_type": "code",
   "execution_count": 19,
   "metadata": {},
   "outputs": [],
   "source": [
    "kf2 = kp.kDataFrameMQF(21)"
   ]
  },
  {
   "cell_type": "markdown",
   "metadata": {},
   "source": [
    "### Insert all kmers using a for loop"
   ]
  },
  {
   "cell_type": "code",
   "execution_count": 20,
   "metadata": {
    "scrolled": true
   },
   "outputs": [
    {
     "name": "stdout",
     "output_type": "stream",
     "text": [
      "Inserting kmer: ATCATACTGATCGATCGATGC with count 45\n",
      "Inserting kmer: CGTAACCTATGCTAGCTAGAT with count 65\n",
      "Inserting kmer: CTGACTACTCAGAGCTAGCCT with count 76\n",
      "Inserting kmer: CAATCGCTGATACGATACGTA with count 79\n"
     ]
    }
   ],
   "source": [
    "for kmer in kmers:\n",
    "    random_count = random.randint(1,100) # generate random count between 1 and 100\n",
    "    print(\"Inserting kmer: %s with count %d\" % (kmer, random_count))\n",
    "    kf2.insert(kmer, random_count)"
   ]
  },
  {
   "cell_type": "markdown",
   "metadata": {},
   "source": [
    "### Iterate over all kmers and print their count and save them in a dictionary"
   ]
  },
  {
   "cell_type": "code",
   "execution_count": 21,
   "metadata": {},
   "outputs": [
    {
     "name": "stdout",
     "output_type": "stream",
     "text": [
      "retrieved kmer: CTGACTACTCAGAGCTAGCCT with count: 76\n",
      "retrieved kmer: CGTAACCTATGCTAGCTAGAT with count: 65\n",
      "retrieved kmer: ATCATACTGATCGATCGATGC with count: 45\n",
      "retrieved kmer: CAATCGCTGATACGATACGTA with count: 79\n"
     ]
    }
   ],
   "source": [
    "# Create empty dictionary\n",
    "kf2_data = {}\n",
    "\n",
    "# create iterator with the first position in the kDataFrame\n",
    "it = kf2.begin()\n",
    "\n",
    "while(it != kf2.end()):\n",
    "    \n",
    "    # Get the kmer string\n",
    "    kmer = it.getKmer()\n",
    "    \n",
    "    # Get the kmer count\n",
    "    count = it.getKmerCount()\n",
    "    \n",
    "    # Print the data\n",
    "    print(\"retrieved kmer: %s with count: %d\" % (kmer, count))\n",
    "    \n",
    "    # Save data in a dictionary\n",
    "    kf2_data[kmer] = count\n",
    "    \n",
    "    it.next() # Extremely Important!"
   ]
  },
  {
   "cell_type": "markdown",
   "metadata": {},
   "source": [
    "### Dump the dictionary data to a file"
   ]
  },
  {
   "cell_type": "code",
   "execution_count": null,
   "metadata": {},
   "outputs": [],
   "source": [
    "with open(\"kf2_data.tsv\", 'w') as kf2:\n",
    "    kf2.write(\"kmer\\tcount\\n\")\n",
    "    for kmer,count in kf2_data.items():\n",
    "        kf2.write(\"%s\\t%d\\n\" % (kmer, count))"
   ]
  },
  {
   "cell_type": "markdown",
   "metadata": {},
   "source": [
    "<hr style=\"height:5px\">\n",
    "\n",
    "<h2  align=\"center\"> Example 5 (Kmers Indexing) </h2>\n",
    "<hr>\n",
    "<h3><b>Description</b></h3>\n",
    "<ol>\n",
    "    <li>Index fasta file using index() function and save the coloredKDataFrame in ckf1</li> \n",
    "    <li>Load the namesMap as a python dictionary and print it</li>\n",
    "    <li>Load the inverted namesMap as a python dictionary and print it</li>\n",
    "    <li>Query by kmer to get its color</li>\n",
    "    <li> Save the kDataFrame on disk </li>\n",
    "<ol>"
   ]
  },
  {
   "cell_type": "code",
   "execution_count": null,
   "metadata": {},
   "outputs": [],
   "source": [
    "ckf1 = kp.index(\"data/min_test_sample.fa\",\"data/min_test_sample.fa.names\", 31)"
   ]
  },
  {
   "cell_type": "code",
   "execution_count": null,
   "metadata": {
    "scrolled": true
   },
   "outputs": [],
   "source": [
    "namesMap = dict(ckf1.namesMap)\n",
    "inverted_namesMap = dict(ckf1.namesMapInv)\n",
    "\n",
    "print(namesMap)\n",
    "print(\"-----------------\")\n",
    "print(inverted_namesMap)"
   ]
  },
  {
   "cell_type": "markdown",
   "metadata": {},
   "source": [
    "<h2>namesMap as an unordered_map <span style=\"color:red\"> <span style=\"color:green\">[Optional]</span> </h2>"
   ]
  },
  {
   "cell_type": "markdown",
   "metadata": {},
   "source": [
    "### Iterate over the namesMap <span style=\"color:green\">[Optional]</span>"
   ]
  },
  {
   "cell_type": "code",
   "execution_count": null,
   "metadata": {
    "scrolled": true
   },
   "outputs": [],
   "source": [
    "# Get the namesMap\n",
    "c_namesMap = ckf1.namesMap\n",
    "\n",
    "# create map iterator\n",
    "c_it = c_namesMap.begin()\n",
    "\n",
    "while(c_it != c_namesMap.end()):\n",
    "    \n",
    "    # Get the current value (python tuple) and print it\n",
    "    curr_val = c_it.value()\n",
    "    print(curr_val)\n",
    "    \n",
    "    # Increment the iterator\n",
    "    c_it.next() # Extremely Important"
   ]
  },
  {
   "cell_type": "markdown",
   "metadata": {},
   "source": [
    "### Find a single element <span style=\"color:green\">[Optional]</span>"
   ]
  },
  {
   "cell_type": "code",
   "execution_count": null,
   "metadata": {},
   "outputs": [],
   "source": [
    "# Search for transcript with ID = 1\n",
    "id_1 = c_namesMap.find(1).value()\n",
    "print(id_1)\n",
    "\n",
    "# Search using the dictionary\n",
    "print(namesMap[1])"
   ]
  },
  {
   "cell_type": "markdown",
   "metadata": {},
   "source": [
    "### Get a kmer color from the coloredKDataFrame"
   ]
  },
  {
   "cell_type": "code",
   "execution_count": null,
   "metadata": {},
   "outputs": [],
   "source": [
    "kmer = \"TCGAAGCTGGAGAAGGCGGACATCCTGGAGA\"[:31]\n",
    "color = ckf1.getKmerColor(kmer)\n",
    "print(color)"
   ]
  },
  {
   "cell_type": "markdown",
   "metadata": {},
   "source": [
    "### Get all the transcripts Ids associated to this kmer"
   ]
  },
  {
   "cell_type": "code",
   "execution_count": null,
   "metadata": {},
   "outputs": [],
   "source": [
    "#1 Create an empty colorsList\n",
    "colors_list = kp.colorsList()\n",
    "\n",
    "#2 Fill it with the transcript IDs\n",
    "ckf1.getSamplesIDForColor(68, colors_list)\n",
    "\n",
    "#3 Print the colorsList as a list\n",
    "print(list(colors_list))"
   ]
  },
  {
   "cell_type": "markdown",
   "metadata": {},
   "source": [
    "### Get all transcript names of that color"
   ]
  },
  {
   "cell_type": "code",
   "execution_count": null,
   "metadata": {},
   "outputs": [],
   "source": [
    "for color in colors_list:\n",
    "    print(c_namesMap.find(color).value())"
   ]
  },
  {
   "cell_type": "markdown",
   "metadata": {},
   "source": [
    "### Get all transcript names of that color using the namesMap dictionary"
   ]
  },
  {
   "cell_type": "code",
   "execution_count": null,
   "metadata": {},
   "outputs": [],
   "source": [
    "for color in colors_list:\n",
    "    print(namesMap[color])"
   ]
  },
  {
   "cell_type": "markdown",
   "metadata": {},
   "source": [
    "### Save the ckf1 to the disk as ckf1"
   ]
  },
  {
   "cell_type": "code",
   "execution_count": null,
   "metadata": {},
   "outputs": [],
   "source": [
    "ckf1.save(\"ckf1\")"
   ]
  },
  {
   "cell_type": "markdown",
   "metadata": {},
   "source": [
    "<hr style=\"height:5px\">\n",
    "\n",
    "<h2  align=\"center\"> Example 6 (Loading ckf1 as kDataFrame and iterate over kmers & colors) </h2>\n",
    "<hr>\n",
    "<h3><b>Description</b></h3>\n",
    "<ol>\n",
    "    <li>Load the ckf1 coloredKDataFrame to kf5</li> \n",
    "    <li>Iterate over all kmers and get kmer:color \"color now instead of count\" [also can be loaded as coloredKDataframe]</li>\n",
    "    <li>Save the data to dictionary</li>\n",
    "<ol>"
   ]
  },
  {
   "cell_type": "markdown",
   "metadata": {},
   "source": [
    "### Loading ckf1 as kDataFrame"
   ]
  },
  {
   "cell_type": "code",
   "execution_count": null,
   "metadata": {},
   "outputs": [],
   "source": [
    "kf5 = kp.kDataFrame.load(\"ckf1\")"
   ]
  },
  {
   "cell_type": "markdown",
   "metadata": {},
   "source": [
    "### To load as coloredkDataFrame <span style=\"color:brown\"> (will not be used in the next steps) </span>"
   ]
  },
  {
   "cell_type": "code",
   "execution_count": null,
   "metadata": {},
   "outputs": [],
   "source": [
    "ckf2 = kp.colored_kDataFrame.load(\"ckf1\")"
   ]
  },
  {
   "cell_type": "markdown",
   "metadata": {},
   "source": [
    "### Create an Iterator"
   ]
  },
  {
   "cell_type": "code",
   "execution_count": null,
   "metadata": {},
   "outputs": [],
   "source": [
    "kf5_it = kf5.begin()"
   ]
  },
  {
   "cell_type": "markdown",
   "metadata": {},
   "source": [
    "### Iterate and print the first 5 kmers with their colors"
   ]
  },
  {
   "cell_type": "code",
   "execution_count": null,
   "metadata": {},
   "outputs": [],
   "source": [
    "for i in range(5):\n",
    "    \n",
    "    # Get the kmer\n",
    "    kmer = kf5_it.getKmer()\n",
    "    \n",
    "    # Get the color (stored as count)\n",
    "    color = kf5_it.getKmerCount()\n",
    "    \n",
    "    # Verify by querying the kmer on the colored kDataFrame\n",
    "    \n",
    "    color2 = ckf1.getKmerColor(kmer)\n",
    "    \n",
    "    print(\"Kmer  : %s\" % kmer)\n",
    "    print(\"Color : %d\" % color)\n",
    "    print(\"Color2: %d\" % color2)\n",
    "    print(\"-------------------------------\")\n",
    "    \n",
    "    kf5_it.next() # Extremely Important !"
   ]
  },
  {
   "cell_type": "markdown",
   "metadata": {},
   "source": [
    "<hr style=\"height:5px\">\n",
    "\n",
    "<h2  align=\"center\"> Example 7 (Difference between two kDataFrames) </h2>\n",
    "<hr>\n",
    "<h3><b>Description</b></h3>\n",
    "<ol>\n",
    "    <li>Create two kDataFrames with same kmer size and fill them with random kmers</li>\n",
    "    <li>Apply set functions diff, intersect, union and dump the resultant kDataFrames</li>\n",
    "    \n",
    "<ol>"
   ]
  },
  {
   "cell_type": "markdown",
   "metadata": {},
   "source": [
    "## Function to generate random kmers with random counts"
   ]
  },
  {
   "cell_type": "code",
   "execution_count": 22,
   "metadata": {},
   "outputs": [],
   "source": [
    "def generate_kmers(kSize, kmers_no):\n",
    "    kmers_list = []\n",
    "    for i in range(kmers_no):\n",
    "        _kmer = \"\".join([random.choice('ACGT') for _ in range(kSize)])\n",
    "        _count = random.randint(1, 1000)\n",
    "        kmers_list.append((_kmer, _count))\n",
    "\n",
    "    return kmers_list"
   ]
  },
  {
   "cell_type": "code",
   "execution_count": 35,
   "metadata": {},
   "outputs": [],
   "source": [
    "def dumpKmers(kFrame):\n",
    "    it = kFrame.begin()\n",
    "    counter = 1\n",
    "    while (it != kFrame.end()):\n",
    "        # Get the kmer string\n",
    "        kmer = it.getKmer()\n",
    "\n",
    "        # Get the kmer count\n",
    "        count = it.getKmerCount()\n",
    "\n",
    "        # Print the data\n",
    "        print(\"%d- retrieved kmer: %s with count: %d\" % (counter, kmer, count))\n",
    "        counter +=1\n",
    "        \n",
    "        it.next()"
   ]
  },
  {
   "cell_type": "code",
   "execution_count": 42,
   "metadata": {},
   "outputs": [],
   "source": [
    "kSize = 31\n",
    "\n",
    "# Empty kDataFrames\n",
    "## auto binding to vector<kDataFrame*>\n",
    "kFrames_vec = [kp.kDataFrameMQF(kSize), kp.kDataFrameMQF(kSize)]\n",
    "\n",
    "\n",
    "# Create random kmers list\n",
    "kmers_list1 = generate_kmers(kSize, kmers_no=20)\n",
    "kmers_list2 = generate_kmers(kSize, kmers_no=10)\n",
    "\n",
    "# Replicate some kmers from kmers_list1 in kmers_list2 to make sure len(intersection) > 0\n",
    "kmers_list2 += kmers_list1[0:10]\n",
    "\n",
    "# Inserting Kmers\n",
    "for kmer in kmers_list1:\n",
    "    kFrames_vec[0].insert(kmer[0], kmer[1])\n",
    "\n",
    "for kmer in kmers_list2:\n",
    "    kFrames_vec[1].insert(kmer[0], kmer[1])\n",
    "\n",
    "# Apply kFrameIntersect\n",
    "intersect_kFrame = kp.kFrameIntersect(kFrames_vec)\n",
    "\n",
    "# Apply kFrameDiff\n",
    "diff_kFrame = kp.kFrameDiff(kFrames_vec)\n",
    "\n",
    "# Apply kFrameUnion\n",
    "union_kFrame = kp.kFrameUnion(kFrames_vec)"
   ]
  },
  {
   "cell_type": "markdown",
   "metadata": {},
   "source": [
    "### Dumping kmers of kFrames_vec[0] "
   ]
  },
  {
   "cell_type": "code",
   "execution_count": 39,
   "metadata": {
    "scrolled": true
   },
   "outputs": [
    {
     "name": "stdout",
     "output_type": "stream",
     "text": [
      "1- retrieved kmer: CGAGAGACGAGGGCAGGAGCCAAGCGACTTG with count: 469\n",
      "2- retrieved kmer: CGTGTACAACTTTGACACCGTAACGCGAGTT with count: 623\n",
      "3- retrieved kmer: CACAGAGCTGGACCCGTAAGTCTTGGCCATT with count: 413\n",
      "4- retrieved kmer: TGTTTGCGGATCGCACGCCATACACGACTCG with count: 78\n",
      "5- retrieved kmer: GTTCTCTAAGTCAGCGTGGGATTCTGTTATA with count: 948\n",
      "6- retrieved kmer: GCAACCTTATGCTGTAGGTACCGTCCCCTCG with count: 119\n",
      "7- retrieved kmer: ATTAAGTCCGCATAGGACCCGGCCAGTCTGG with count: 167\n",
      "8- retrieved kmer: GCTACTCTCTTGGGCATTCGGGAATAGAACT with count: 71\n",
      "9- retrieved kmer: GTGGTATCCGCAAGTTGTAGATTTGTCCTGA with count: 832\n",
      "10- retrieved kmer: GCCAATTCTGCTCAAAGTTCATCCCAGCCAG with count: 755\n",
      "11- retrieved kmer: TTGAACACGAATGCGGCTTCCGTAATTGTAG with count: 93\n",
      "12- retrieved kmer: ACTGGCCAGGTACCTCTAATTTAATAAAATT with count: 680\n",
      "13- retrieved kmer: TAAACTGTTTAGGCCACGCTACTCGATCATA with count: 568\n",
      "14- retrieved kmer: TGTATGTGGCAGGCTCTTCCTCACACCAAGG with count: 811\n",
      "15- retrieved kmer: GTGTGTGAGTTAGTACTCAACTTTGGCAATA with count: 433\n",
      "16- retrieved kmer: GTCCCGCTATCCCTGTGTAGCACCCTGTTAG with count: 433\n",
      "17- retrieved kmer: CCCAACCTATGCGTTTTGCCAGAGTCAACGC with count: 326\n",
      "18- retrieved kmer: TGTCGCTTTTATAATCTGCTTCCGTAGTCAC with count: 354\n",
      "19- retrieved kmer: ATTGAGTCTACAAGAATGCGTTTATTGCGGG with count: 726\n",
      "20- retrieved kmer: CGCCTCGGCACCCCCTTGGGATAGCGGCAAG with count: 829\n"
     ]
    }
   ],
   "source": [
    "dumpKmers(kFrames_vec[0])"
   ]
  },
  {
   "cell_type": "markdown",
   "metadata": {},
   "source": [
    "### Dumping kmers of kFrames_vec[1]"
   ]
  },
  {
   "cell_type": "code",
   "execution_count": 43,
   "metadata": {
    "scrolled": true
   },
   "outputs": [
    {
     "name": "stdout",
     "output_type": "stream",
     "text": [
      "1- retrieved kmer: GACGAGTTTCGAGAGGGGCTGGCTACCGTTC with count: 772\n",
      "2- retrieved kmer: TGTGCAATTGTTCCTCCCCCACATAGTATCA with count: 319\n",
      "3- retrieved kmer: TAAAGAGTTTGTGGGATAGACGCAACTGAAT with count: 355\n",
      "4- retrieved kmer: CTACAGTGGCCATTCATTAAAACCAGCAAAA with count: 347\n",
      "5- retrieved kmer: GCAGAAGTCGTCTTTGCCGTATAGGTGGTCG with count: 615\n",
      "6- retrieved kmer: TCTGGGTAGTTGAACGGGGCTCTTCTTAAAG with count: 472\n",
      "7- retrieved kmer: CAATAGTGGAAATCGATGCACAGATCCTGTT with count: 867\n",
      "8- retrieved kmer: GGTGACTTTCCATTTTCCATTGATCGCTTTC with count: 956\n",
      "9- retrieved kmer: ATTTTTTGAGCTAGTCACGTGAGTACTGAAA with count: 1\n",
      "10- retrieved kmer: CACAATACGCTTAACTCGGTCACTGCTCATG with count: 375\n",
      "11- retrieved kmer: AGTGTCTGGAATTCTTGAATCTTGGCTAAGC with count: 428\n",
      "12- retrieved kmer: AGGTTCGGAGGAAGCCGGGATGTTGATTAGG with count: 144\n",
      "13- retrieved kmer: GTAGCGATAGTCTGCTCATCGGTCGTCTCAA with count: 531\n",
      "14- retrieved kmer: TCGAGACTCTTAATTATTGATACCCACTCCC with count: 216\n",
      "15- retrieved kmer: CCCGATATCGAATGTGGGTACCCCATAGCTA with count: 552\n",
      "16- retrieved kmer: CTAGACAAAATGCGTTTTACGTACCGGGACC with count: 421\n",
      "17- retrieved kmer: CCAGTGCGTGATGATCGACCAAATTACGCTC with count: 642\n",
      "18- retrieved kmer: TCTCCGTGCAAAAAGGTGGTGTCGGGTTTCT with count: 772\n",
      "19- retrieved kmer: TCTAAGGGCAGTGGTTAATAAAGAATAAGTT with count: 197\n",
      "20- retrieved kmer: TGCAAGTCATGTTCTCTCTGAAAACCAGCCG with count: 593\n"
     ]
    }
   ],
   "source": [
    "dumpKmers(kFrames_vec[1])"
   ]
  },
  {
   "cell_type": "markdown",
   "metadata": {},
   "source": [
    "### Dump diff_kFrame"
   ]
  },
  {
   "cell_type": "code",
   "execution_count": 36,
   "metadata": {
    "scrolled": true
   },
   "outputs": [
    {
     "name": "stdout",
     "output_type": "stream",
     "text": [
      "1- retrieved kmer: CGAGAGACGAGGGCAGGAGCCAAGCGACTTG with count: 469\n",
      "2- retrieved kmer: CGTGTACAACTTTGACACCGTAACGCGAGTT with count: 623\n",
      "3- retrieved kmer: GTTCTCTAAGTCAGCGTGGGATTCTGTTATA with count: 948\n",
      "4- retrieved kmer: GCAACCTTATGCTGTAGGTACCGTCCCCTCG with count: 119\n",
      "5- retrieved kmer: ACTGGCCAGGTACCTCTAATTTAATAAAATT with count: 680\n",
      "6- retrieved kmer: TAAACTGTTTAGGCCACGCTACTCGATCATA with count: 568\n",
      "7- retrieved kmer: TGTATGTGGCAGGCTCTTCCTCACACCAAGG with count: 811\n",
      "8- retrieved kmer: CCCAACCTATGCGTTTTGCCAGAGTCAACGC with count: 326\n",
      "9- retrieved kmer: TGTCGCTTTTATAATCTGCTTCCGTAGTCAC with count: 354\n",
      "10- retrieved kmer: CGCCTCGGCACCCCCTTGGGATAGCGGCAAG with count: 829\n"
     ]
    }
   ],
   "source": [
    "dumpKmers(diff_kFrame)"
   ]
  },
  {
   "cell_type": "markdown",
   "metadata": {},
   "source": [
    "### Dump instersect_kFrame"
   ]
  },
  {
   "cell_type": "code",
   "execution_count": 37,
   "metadata": {},
   "outputs": [
    {
     "name": "stdout",
     "output_type": "stream",
     "text": [
      "1- retrieved kmer: CACAGAGCTGGACCCGTAAGTCTTGGCCATT with count: 413\n",
      "2- retrieved kmer: TGTTTGCGGATCGCACGCCATACACGACTCG with count: 78\n",
      "3- retrieved kmer: ATTAAGTCCGCATAGGACCCGGCCAGTCTGG with count: 167\n",
      "4- retrieved kmer: GCTACTCTCTTGGGCATTCGGGAATAGAACT with count: 71\n",
      "5- retrieved kmer: GTGGTATCCGCAAGTTGTAGATTTGTCCTGA with count: 832\n",
      "6- retrieved kmer: GCCAATTCTGCTCAAAGTTCATCCCAGCCAG with count: 755\n",
      "7- retrieved kmer: TTGAACACGAATGCGGCTTCCGTAATTGTAG with count: 93\n",
      "8- retrieved kmer: GTGTGTGAGTTAGTACTCAACTTTGGCAATA with count: 433\n",
      "9- retrieved kmer: GTCCCGCTATCCCTGTGTAGCACCCTGTTAG with count: 433\n",
      "10- retrieved kmer: ATTGAGTCTACAAGAATGCGTTTATTGCGGG with count: 726\n"
     ]
    }
   ],
   "source": [
    "dumpKmers(intersect_kFrame)"
   ]
  },
  {
   "cell_type": "markdown",
   "metadata": {},
   "source": [
    "### Dump union_kFrame"
   ]
  },
  {
   "cell_type": "code",
   "execution_count": 44,
   "metadata": {},
   "outputs": [
    {
     "name": "stdout",
     "output_type": "stream",
     "text": [
      "1- retrieved kmer: GACGAGTTTCGAGAGGGGCTGGCTACCGTTC with count: 772\n",
      "2- retrieved kmer: TGTGCAATTGTTCCTCCCCCACATAGTATCA with count: 319\n",
      "3- retrieved kmer: TAAAGAGTTTGTGGGATAGACGCAACTGAAT with count: 710\n",
      "4- retrieved kmer: CTACAGTGGCCATTCATTAAAACCAGCAAAA with count: 694\n",
      "5- retrieved kmer: ATTAATGAGGTCGCCGCTTTTTACCCATTAG with count: 434\n",
      "6- retrieved kmer: GCAGAAGTCGTCTTTGCCGTATAGGTGGTCG with count: 615\n",
      "7- retrieved kmer: CAGGACATTCTACGAGGCGCATCGTTGCTGG with count: 845\n",
      "8- retrieved kmer: TCTGGGTAGTTGAACGGGGCTCTTCTTAAAG with count: 944\n",
      "9- retrieved kmer: CAATAGTGGAAATCGATGCACAGATCCTGTT with count: 867\n",
      "10- retrieved kmer: GGTGACTTTCCATTTTCCATTGATCGCTTTC with count: 1912\n",
      "11- retrieved kmer: ATTTTTTGAGCTAGTCACGTGAGTACTGAAA with count: 1\n",
      "12- retrieved kmer: TCGCCTGAGCGATTAACTTTGAAATACAAAA with count: 856\n",
      "13- retrieved kmer: CACAATACGCTTAACTCGGTCACTGCTCATG with count: 375\n",
      "14- retrieved kmer: AGTGTCTGGAATTCTTGAATCTTGGCTAAGC with count: 856\n",
      "15- retrieved kmer: AGGTTCGGAGGAAGCCGGGATGTTGATTAGG with count: 144\n",
      "16- retrieved kmer: GTAGCGATAGTCTGCTCATCGGTCGTCTCAA with count: 1062\n",
      "17- retrieved kmer: TCGAGACTCTTAATTATTGATACCCACTCCC with count: 216\n",
      "18- retrieved kmer: CAAAGGTGGACAGGGGGTGACAGCACGGTCT with count: 582\n",
      "19- retrieved kmer: CCCGATATCGAATGTGGGTACCCCATAGCTA with count: 552\n",
      "20- retrieved kmer: CTAGACAAAATGCGTTTTACGTACCGGGACC with count: 842\n",
      "21- retrieved kmer: AAGAGTCTACCCAGATAAAGTCCACGGTAGT with count: 678\n",
      "22- retrieved kmer: TTGGCGACAATGCCGGAGCAAGACATTACCC with count: 530\n",
      "23- retrieved kmer: CCAGTGCGTGATGATCGACCAAATTACGCTC with count: 1284\n",
      "24- retrieved kmer: TCTCCGTGCAAAAAGGTGGTGTCGGGTTTCT with count: 1544\n",
      "25- retrieved kmer: TGCCCGCCAGTATCGGTACAGCACTCGATAT with count: 103\n",
      "26- retrieved kmer: TCTGCGATAGGCCCTATGAACCTCGCGAACT with count: 393\n",
      "27- retrieved kmer: GACTCTTGCAGACCCCCACAGCATCAAGCGA with count: 784\n",
      "28- retrieved kmer: TCTAAGGGCAGTGGTTAATAAAGAATAAGTT with count: 197\n",
      "29- retrieved kmer: CCGAGTCCATGTGTGGAAGGAGCTTTCTAAC with count: 151\n",
      "30- retrieved kmer: TGCAAGTCATGTTCTCTCTGAAAACCAGCCG with count: 1186\n"
     ]
    }
   ],
   "source": [
    "dumpKmers(union_kFrame)"
   ]
  }
 ],
 "metadata": {
  "kernelspec": {
   "display_name": "Python 3",
   "language": "python",
   "name": "python3"
  },
  "language_info": {
   "codemirror_mode": {
    "name": "ipython",
    "version": 3
   },
   "file_extension": ".py",
   "mimetype": "text/x-python",
   "name": "python",
   "nbconvert_exporter": "python",
   "pygments_lexer": "ipython3",
   "version": "3.6.7"
  }
 },
 "nbformat": 4,
 "nbformat_minor": 2
}
